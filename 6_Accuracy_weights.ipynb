{
  "nbformat": 4,
  "nbformat_minor": 0,
  "metadata": {
    "colab": {
      "name": "Presicion_weights.ipynb",
      "provenance": [],
      "collapsed_sections": [],
      "toc_visible": true,
      "include_colab_link": true
    },
    "kernelspec": {
      "name": "python3",
      "display_name": "Python 3"
    },
    "accelerator": "GPU"
  },
  "cells": [
    {
      "cell_type": "markdown",
      "metadata": {
        "id": "view-in-github",
        "colab_type": "text"
      },
      "source": [
        "<a href=\"https://colab.research.google.com/github/LxMera/Deep-Learning---denoising-rs-fMRI/blob/master/Presicion_weights.ipynb\" target=\"_parent\"><img src=\"https://colab.research.google.com/assets/colab-badge.svg\" alt=\"Open In Colab\"/></a>"
      ]
    },
    {
      "cell_type": "code",
      "metadata": {
        "id": "jIRetIWQReIe",
        "colab_type": "code",
        "outputId": "c8b476fb-a360-412a-be28-09d3f85bfd69",
        "colab": {
          "base_uri": "https://localhost:8080/",
          "height": 34
        }
      },
      "source": [
        "import os.path as path\n",
        "if path.exists('Data'):   \n",
        "    print ('The folder already exists')\n",
        "else:\n",
        "    !wget -nc https://www.dropbox.com/s/ufwmggstfj0xr8c/DatosXYZ.mat?dl=1\n",
        "    !wget -nc https://www.dropbox.com/s/9vfa4ehuhu76jjl/Data.zip?dl=1\n",
        "    !wget -nc https://www.dropbox.com/s/zuae8e2s23op9rb/DataPy.zip?dl=1\n",
        "    !unzip DataPy.zip?dl=1 -d Data/\n",
        "    !rm DataPy.zip?dl=1\n",
        "    !unzip Data.zip?dl=1 | awk 'BEGIN { ORS = \"\" } { print \"|\" }'\n",
        "    !rm -r Data.zip?dl=1\n",
        "    !mv DatosXYZ.mat?dl=1 Data/DatosXYZ.mat"
      ],
      "execution_count": 23,
      "outputs": [
        {
          "output_type": "stream",
          "text": [
            "The folder already exists\n"
          ],
          "name": "stdout"
        }
      ]
    },
    {
      "cell_type": "code",
      "metadata": {
        "id": "D3r_VcCeRyIe",
        "colab_type": "code",
        "colab": {}
      },
      "source": [
        "import numpy as np\n",
        "import scipy.io"
      ],
      "execution_count": 0,
      "outputs": []
    },
    {
      "cell_type": "code",
      "metadata": {
        "id": "o3ZSBZxPR1zi",
        "colab_type": "code",
        "outputId": "7a8d6187-19ea-479a-ad5d-c2dd024b6ac9",
        "colab": {
          "base_uri": "https://localhost:8080/",
          "height": 51
        }
      },
      "source": [
        "mat = scipy.io.loadmat('Data/DatosXY.mat')\n",
        "etique = scipy.io.loadmat('Data/LabelFix.mat')\n",
        "Datos=mat['Datos_C']\n",
        "Etiq=np.transpose(etique['series'])[:,0]\n",
        "\n",
        "print (np.shape(Datos))\n",
        "print (np.shape(Etiq))"
      ],
      "execution_count": 25,
      "outputs": [
        {
          "output_type": "stream",
          "text": [
            "(22877, 26)\n",
            "(22877,)\n"
          ],
          "name": "stdout"
        }
      ]
    },
    {
      "cell_type": "code",
      "metadata": {
        "id": "WY1ROdViR67L",
        "colab_type": "code",
        "colab": {}
      },
      "source": [
        "import os\n",
        "import gzip\n",
        "import numpy as np\n",
        "import matplotlib.pyplot as plt\n",
        "import warnings; warnings.simplefilter('ignore')\n",
        "from IPython.display import clear_output"
      ],
      "execution_count": 0,
      "outputs": []
    },
    {
      "cell_type": "markdown",
      "metadata": {
        "id": "3Zi5T0UvWKXw",
        "colab_type": "text"
      },
      "source": [
        "### Training and test data"
      ]
    },
    {
      "cell_type": "code",
      "metadata": {
        "id": "WuBtcI2YR9v6",
        "colab_type": "code",
        "outputId": "4833b94b-767e-41de-c96f-69cdef5aae24",
        "colab": {
          "base_uri": "https://localhost:8080/",
          "height": 85
        }
      },
      "source": [
        "por=int(np.shape(Datos)[0]*0.8)\n",
        "\n",
        "X_test=Datos[por:]\n",
        "X_train=Datos[:por]\n",
        "\n",
        "y_test=Etiq[por:]\n",
        "y_train=Etiq[:por]\n",
        "\n",
        "print(X_train.shape)\n",
        "print(y_train.shape)\n",
        "print(X_test.shape)\n",
        "print(y_test.shape)"
      ],
      "execution_count": 27,
      "outputs": [
        {
          "output_type": "stream",
          "text": [
            "(18301, 26)\n",
            "(18301,)\n",
            "(4576, 26)\n",
            "(4576,)\n"
          ],
          "name": "stdout"
        }
      ]
    },
    {
      "cell_type": "code",
      "metadata": {
        "id": "o2rW1jmWSBQN",
        "colab_type": "code",
        "outputId": "87fbfd8c-4dee-4ee4-8689-dff7a150b9cd",
        "colab": {
          "base_uri": "https://localhost:8080/",
          "height": 384
        }
      },
      "source": [
        "ind = np.random.permutation(X_train.shape[0])\n",
        "plt.plot(X_train[ind[0],:]);\n",
        "print(X_train[ind[0]])"
      ],
      "execution_count": 28,
      "outputs": [
        {
          "output_type": "stream",
          "text": [
            "[ 6.35130720e-02  5.74474689e-02  7.72047740e-02  8.64439790e-02\n",
            "  9.80591277e-02  2.13345795e-01  1.04700969e-01  4.14816261e-02\n",
            "  7.44324207e-01 -7.72716409e-12  5.56370914e-04 -9.05162394e+02\n",
            "  5.57426091e-01  6.01977857e+00  6.34821470e+00  1.11615646e+00\n",
            "  2.17836077e-01  2.10714286e-01  8.39300000e+02  1.39650582e+00\n",
            "  2.63095238e-01  2.17836077e-01  7.59254220e-02  3.28546705e-02\n",
            "  6.04217129e-02 -6.51456164e-01]\n"
          ],
          "name": "stdout"
        },
        {
          "output_type": "display_data",
          "data": {
            "image/png": "[encoded data removed]",
            "text/plain": [
              "<Figure size 432x288 with 1 Axes>"
            ]
          },
          "metadata": {
            "tags": []
          }
        }
      ]
    },
    {
      "cell_type": "code",
      "metadata": {
        "id": "mV9aHnmpSC0Z",
        "colab_type": "code",
        "outputId": "ad2a70aa-19ca-48c7-a726-38df704ab242",
        "colab": {
          "base_uri": "https://localhost:8080/",
          "height": 34
        }
      },
      "source": [
        "from keras.utils import np_utils\n",
        "from sklearn.preprocessing import StandardScaler\n",
        "\n",
        "input_dim = X_train.shape[1]\n",
        "\n",
        "scaler = StandardScaler()\n",
        "X_trainNx = scaler.fit_transform(X_train)\n",
        "X_testNx = scaler.fit_transform(X_test)\n",
        "DatosN=scaler.fit_transform(Datos)\n",
        "\n",
        "y_trainOHE = np_utils.to_categorical(y_train)\n",
        "nb_classes = y_trainOHE.shape[1]\n",
        "\n",
        "print(y_trainOHE[ind[0],:])"
      ],
      "execution_count": 29,
      "outputs": [
        {
          "output_type": "stream",
          "text": [
            "[1. 0.]\n"
          ],
          "name": "stdout"
        }
      ]
    },
    {
      "cell_type": "code",
      "metadata": {
        "id": "ihkHUG7cSiDP",
        "colab_type": "code",
        "outputId": "2feb5d3a-598b-4731-a26d-8e2b1194a311",
        "colab": {
          "base_uri": "https://localhost:8080/",
          "height": 538
        }
      },
      "source": [
        "plt.figure(figsize=(10,6))\n",
        "plt.plot(X_trainNx[ind[0],:]);\n",
        "plt.title('Single subject characteristics')\n",
        "plt.xlabel('Features')\n",
        "pos=np.arange(26)\n",
        "lab=['ALFF2','ALFF3','ALFF4','ALFF5','fALFF2','fALFF3','fALFF4','fALFF5','Kurtosis','Mean','Median','Entropy','Negentropy','Jump_1','Jump_2','Jump_3','MNF','MDF','TTP','MNP','PKF','SM1','SM2','SM3','PSR','VCF']\n",
        "plt.xticks(pos,lab, rotation='vertical')\n",
        "plt.ylabel('Value (Standardized)')\n",
        "print(X_trainNx[ind[0]])"
      ],
      "execution_count": 30,
      "outputs": [
        {
          "output_type": "stream",
          "text": [
            "[ 1.38630081  0.57512029  0.38561783 -0.07398381  1.37681209  0.25693854\n",
            " -0.02772278 -0.31084348 -0.1176522  -0.36784446  0.06977322  0.50372568\n",
            " -0.05772835 -0.18477554 -0.37122655  0.06377114  0.00729828  0.24231405\n",
            "  0.50898418  0.50897713  0.90165588  0.00729828 -0.29265096 -0.45609679\n",
            " -0.53877959 -0.39890024]\n"
          ],
          "name": "stdout"
        },
        {
          "output_type": "display_data",
          "data": {
            "image/png": "[encoded data removed]",
            "text/plain": [
              "<Figure size 720x432 with 1 Axes>"
            ]
          },
          "metadata": {
            "tags": []
          }
        }
      ]
    },
    {
      "cell_type": "code",
      "metadata": {
        "id": "QcurtPb7UZtl",
        "colab_type": "code",
        "colab": {}
      },
      "source": [
        "from keras.models import Sequential\n",
        "from keras.layers import Dense, Activation\n",
        "from keras.layers import Dropout\n",
        "from sklearn.decomposition import FastICA, PCA"
      ],
      "execution_count": 0,
      "outputs": []
    },
    {
      "cell_type": "code",
      "metadata": {
        "id": "nBgKuqM_Sj8_",
        "colab_type": "code",
        "outputId": "076f78ac-fa28-4f12-de25-b9c6e6605094",
        "colab": {
          "base_uri": "https://localhost:8080/",
          "height": 1000
        }
      },
      "source": [
        "bat=500\n",
        "reg=0.4\n",
        "epo=100\n",
        "pre1=[]\n",
        "pre2=[]\n",
        "pre3=[]\n",
        "pre4=[]\n",
        "  \n",
        "for co in range(0,26,1):\n",
        "  #print(\"Componentes \", co)  \n",
        "  #pca = PCA(n_components=co)\n",
        "  #X_trainN = pca.fit_transform(X_trainNx)\n",
        "  #X_testN = pca.fit_transform(X_testNx)\n",
        "  \n",
        "  X=np.transpose((X_trainNx[:,co], X_trainNx[:,co], X_trainNx[:,co], X_trainNx[:,co]))\n",
        "  X=np.concatenate((X,X), axis=1)\n",
        "  \n",
        "  X2=np.transpose((X_testNx[:,co], X_testNx[:,co], X_testNx[:,co], X_testNx[:,co]))\n",
        "  X2=np.concatenate((X2,X2), axis=1)\n",
        "  \n",
        "  X_trainN = X\n",
        "  X_testN = X2\n",
        "  \n",
        "  input_dim = X_testN.shape[1]\n",
        "  print (input_dim)\n",
        "  print (nb_classes)\n",
        "  \n",
        "  #First model\n",
        "  model = Sequential()\n",
        "  model.add(Dense(13, input_dim=input_dim))\n",
        "  model.add(Activation('tanh'))\n",
        "  model.add(Dropout(reg))\n",
        "  model.add(Dense(6))\n",
        "  model.add(Activation('tanh'))\n",
        "  model.add(Dropout(reg))\n",
        "  model.add(Dense(nb_classes, activation='softmax'))\n",
        "  \n",
        "  #Second model\n",
        "  model2 = Sequential()\n",
        "  model2.add(Dense(8, input_dim=input_dim))\n",
        "  model2.add(Activation('tanh'))\n",
        "  model2.add(Dropout(reg))\n",
        "  model2.add(Dense(4))\n",
        "  model2.add(Activation('tanh'))\n",
        "  model2.add(Dropout(reg))\n",
        "  model2.add(Dense(nb_classes, activation='softmax'))\n",
        "  \n",
        "  #Third model\n",
        "  model3 = Sequential()\n",
        "  model3.add(Dense(16, input_dim=input_dim))\n",
        "  model3.add(Activation('tanh'))\n",
        "  model3.add(Dropout(reg))\n",
        "  model3.add(Dense(8))\n",
        "  model3.add(Activation('tanh'))\n",
        "  model3.add(Dropout(reg))\n",
        "  model3.add(Dense(4))\n",
        "  model3.add(Activation('tanh'))\n",
        "  model3.add(Dropout(reg))\n",
        "  model3.add(Dense(nb_classes, activation='softmax'))\n",
        "\n",
        "  #Fourth model\n",
        "  model4 = Sequential()\n",
        "  model4.add(Dense(8, input_dim=input_dim))\n",
        "  model4.add(Activation('tanh'))\n",
        "  model4.add(Dropout(reg))\n",
        "  model4.add(Dense(nb_classes, activation='softmax'))\n",
        "\n",
        "  #model parameters\n",
        "  model.compile(loss='categorical_crossentropy', optimizer='sgd', metrics=['accuracy'])\n",
        "  model2.compile(loss='categorical_crossentropy', optimizer='sgd', metrics=['accuracy'])\n",
        "  model3.compile(loss='categorical_crossentropy', optimizer='sgd', metrics=['accuracy'])\n",
        "  model4.compile(loss='categorical_crossentropy', optimizer='sgd', metrics=['accuracy'])\n",
        "  \n",
        "  print(\"Training model 1...\")\n",
        "  history1x=model.fit(X_trainN, y_trainOHE, epochs=epo, batch_size=bat, validation_split=0.1, verbose=0)\n",
        "  \n",
        "  print(\"Training model 2...\")\n",
        "  history2x=model2.fit(X_trainN, y_trainOHE, epochs=epo, batch_size=bat, validation_split=0.1, verbose=0)\n",
        "  \n",
        "  print(\"Training model 3...\")\n",
        "  history3x=model3.fit(X_trainN, y_trainOHE, epochs=epo, batch_size=bat, validation_split=0.1, verbose=0)\n",
        "  \n",
        "  print(\"Training model 4...\")\n",
        "  history4x=model4.fit(X_trainN, y_trainOHE, epochs=epo, batch_size=bat, validation_split=0.1, verbose=0)\n",
        "  \n",
        "  \n",
        "  #clear_output(wait=True)  \n",
        "  preds = model.predict_classes(X_testN, verbose=0)\n",
        "  Accuracy = np.mean(preds == y_test)\n",
        "  pre1.append(Accuracy)  \n",
        "  print('Accuracy = ', Accuracy*100, '%')\n",
        "    \n",
        "  preds2 = model2.predict_classes(X_testN, verbose=0)\n",
        "  Accuracy2 = np.mean(preds2 == y_test)\n",
        "  pre2.append(Accuracy2)\n",
        "  print('Accuracy = ', Accuracy2*100, '%')  \n",
        "  \n",
        "  preds3 = model3.predict_classes(X_testN, verbose=0)\n",
        "  Accuracy3 = np.mean(preds3 == y_test)\n",
        "  pre3.append(Accuracy3)\n",
        "  print('Accuracy = ', Accuracy3*100, '%')\n",
        "  \n",
        "  preds4 = model4.predict_classes(X_testN, verbose=0)\n",
        "  Accuracy4 = np.mean(preds4 == y_test)\n",
        "  pre4.append(Accuracy4)\n",
        "  print('Accuracy = ', Accuracy4*100, '%')\n",
        "  \n",
        "  del model\n",
        "  del model2\n",
        "  del model3\n",
        "  del model4\n",
        "  #del pca"
      ],
      "execution_count": 32,
      "outputs": [
        {
          "output_type": "stream",
          "text": [
            "8\n",
            "2\n",
            "Training model 1...\n",
            "Training model 2...\n",
            "Training model 3...\n",
            "Training model 4...\n",
            "Accuracy =  89.57604895104895 %\n",
            "Accuracy =  89.5104895104895 %\n",
            "Accuracy =  89.57604895104895 %\n",
            "Accuracy =  89.2701048951049 %\n",
            "8\n",
            "2\n",
            "Training model 1...\n",
            "Training model 2...\n",
            "Training model 3...\n",
            "Training model 4...\n",
            "Accuracy =  89.57604895104895 %\n",
            "Accuracy =  89.57604895104895 %\n",
            "Accuracy =  89.57604895104895 %\n",
            "Accuracy =  89.57604895104895 %\n",
            "8\n",
            "2\n",
            "Training model 1...\n",
            "Training model 2...\n",
            "Training model 3...\n",
            "Training model 4...\n",
            "Accuracy =  94.99562937062937 %\n",
            "Accuracy =  94.88636363636364 %\n",
            "Accuracy =  94.7770979020979 %\n",
            "Accuracy =  94.88636363636364 %\n",
            "8\n",
            "2\n",
            "Training model 1...\n",
            "Training model 2...\n",
            "Training model 3...\n",
            "Training model 4...\n",
            "Accuracy =  92.52622377622379 %\n",
            "Accuracy =  92.48251748251748 %\n",
            "Accuracy =  91.89248251748252 %\n",
            "Accuracy =  92.3951048951049 %\n",
            "8\n",
            "2\n",
            "Training model 1...\n",
            "Training model 2...\n",
            "Training model 3...\n",
            "Training model 4...\n",
            "Accuracy =  89.94755244755245 %\n",
            "Accuracy =  89.66346153846155 %\n",
            "Accuracy =  90.3409090909091 %\n",
            "Accuracy =  89.86013986013987 %\n",
            "8\n",
            "2\n",
            "Training model 1...\n",
            "Training model 2...\n",
            "Training model 3...\n",
            "Training model 4...\n",
            "Accuracy =  89.2263986013986 %\n",
            "Accuracy =  89.57604895104895 %\n",
            "Accuracy =  89.57604895104895 %\n",
            "Accuracy =  89.02972027972028 %\n",
            "8\n",
            "2\n",
            "Training model 1...\n",
            "Training model 2...\n",
            "Training model 3...\n",
            "Training model 4...\n",
            "Accuracy =  95.67307692307693 %\n",
            "Accuracy =  95.58566433566433 %\n",
            "Accuracy =  95.58566433566433 %\n",
            "Accuracy =  95.56381118881119 %\n",
            "8\n",
            "2\n",
            "Training model 1...\n",
            "Training model 2...\n",
            "Training model 3...\n",
            "Training model 4...\n",
            "Accuracy =  91.36800699300699 %\n",
            "Accuracy =  91.36800699300699 %\n",
            "Accuracy =  90.12237762237763 %\n",
            "Accuracy =  91.45541958041959 %\n",
            "8\n",
            "2\n",
            "Training model 1...\n",
            "Training model 2...\n",
            "Training model 3...\n",
            "Training model 4...\n",
            "Accuracy =  89.57604895104895 %\n",
            "Accuracy =  89.57604895104895 %\n",
            "Accuracy =  89.57604895104895 %\n",
            "Accuracy =  89.57604895104895 %\n",
            "8\n",
            "2\n",
            "Training model 1...\n",
            "Training model 2...\n",
            "Training model 3...\n",
            "Training model 4...\n",
            "Accuracy =  89.57604895104895 %\n",
            "Accuracy =  89.57604895104895 %\n",
            "Accuracy =  89.57604895104895 %\n",
            "Accuracy =  89.57604895104895 %\n",
            "8\n",
            "2\n",
            "Training model 1...\n",
            "Training model 2...\n",
            "Training model 3...\n",
            "Training model 4...\n",
            "Accuracy =  89.57604895104895 %\n",
            "Accuracy =  89.57604895104895 %\n",
            "Accuracy =  89.57604895104895 %\n",
            "Accuracy =  89.57604895104895 %\n",
            "8\n",
            "2\n",
            "Training model 1...\n",
            "Training model 2...\n",
            "Training model 3...\n",
            "Training model 4...\n",
            "Accuracy =  89.57604895104895 %\n",
            "Accuracy =  89.57604895104895 %\n",
            "Accuracy =  89.57604895104895 %\n",
            "Accuracy =  89.57604895104895 %\n",
            "8\n",
            "2\n",
            "Training model 1...\n",
            "Training model 2...\n",
            "Training model 3...\n",
            "Training model 4...\n",
            "Accuracy =  89.57604895104895 %\n",
            "Accuracy =  89.57604895104895 %\n",
            "Accuracy =  89.57604895104895 %\n",
            "Accuracy =  89.57604895104895 %\n",
            "8\n",
            "2\n",
            "Training model 1...\n",
            "Training model 2...\n",
            "Training model 3...\n",
            "Training model 4...\n",
            "Accuracy =  91.76136363636364 %\n",
            "Accuracy =  91.71765734265735 %\n",
            "Accuracy =  91.82692307692307 %\n",
            "Accuracy =  92.04545454545455 %\n",
            "8\n",
            "2\n",
            "Training model 1...\n",
            "Training model 2...\n",
            "Training model 3...\n",
            "Training model 4...\n",
            "Accuracy =  89.57604895104895 %\n",
            "Accuracy =  89.57604895104895 %\n",
            "Accuracy =  89.57604895104895 %\n",
            "Accuracy =  89.57604895104895 %\n",
            "8\n",
            "2\n",
            "Training model 1...\n",
            "Training model 2...\n",
            "Training model 3...\n",
            "Training model 4...\n",
            "Accuracy =  89.57604895104895 %\n",
            "Accuracy =  89.57604895104895 %\n",
            "Accuracy =  89.57604895104895 %\n",
            "Accuracy =  88.76748251748252 %\n",
            "8\n",
            "2\n",
            "Training model 1...\n",
            "Training model 2...\n",
            "Training model 3...\n",
            "Training model 4...\n",
            "Accuracy =  89.57604895104895 %\n",
            "Accuracy =  89.57604895104895 %\n",
            "Accuracy =  89.57604895104895 %\n",
            "Accuracy =  89.57604895104895 %\n",
            "8\n",
            "2\n",
            "Training model 1...\n",
            "Training model 2...\n",
            "Training model 3...\n",
            "Training model 4...\n",
            "Accuracy =  89.57604895104895 %\n",
            "Accuracy =  89.57604895104895 %\n",
            "Accuracy =  89.57604895104895 %\n",
            "Accuracy =  89.57604895104895 %\n",
            "8\n",
            "2\n",
            "Training model 1...\n",
            "Training model 2...\n",
            "Training model 3...\n",
            "Training model 4...\n",
            "Accuracy =  89.57604895104895 %\n",
            "Accuracy =  89.57604895104895 %\n",
            "Accuracy =  89.57604895104895 %\n",
            "Accuracy =  89.57604895104895 %\n",
            "8\n",
            "2\n",
            "Training model 1...\n",
            "Training model 2...\n",
            "Training model 3...\n",
            "Training model 4...\n",
            "Accuracy =  89.57604895104895 %\n",
            "Accuracy =  89.57604895104895 %\n",
            "Accuracy =  89.57604895104895 %\n",
            "Accuracy =  89.57604895104895 %\n",
            "8\n",
            "2\n",
            "Training model 1...\n",
            "Training model 2...\n",
            "Training model 3...\n",
            "Training model 4...\n",
            "Accuracy =  89.57604895104895 %\n",
            "Accuracy =  89.57604895104895 %\n",
            "Accuracy =  89.57604895104895 %\n",
            "Accuracy =  89.57604895104895 %\n",
            "8\n",
            "2\n",
            "Training model 1...\n",
            "Training model 2...\n",
            "Training model 3...\n",
            "Training model 4...\n",
            "Accuracy =  89.57604895104895 %\n",
            "Accuracy =  89.57604895104895 %\n",
            "Accuracy =  89.57604895104895 %\n",
            "Accuracy =  89.57604895104895 %\n",
            "8\n",
            "2\n",
            "Training model 1...\n",
            "Training model 2...\n",
            "Training model 3...\n",
            "Training model 4...\n",
            "Accuracy =  89.57604895104895 %\n",
            "Accuracy =  89.57604895104895 %\n",
            "Accuracy =  89.57604895104895 %\n",
            "Accuracy =  89.57604895104895 %\n",
            "8\n",
            "2\n",
            "Training model 1...\n",
            "Training model 2...\n",
            "Training model 3...\n",
            "Training model 4...\n",
            "Accuracy =  89.57604895104895 %\n",
            "Accuracy =  89.57604895104895 %\n",
            "Accuracy =  89.57604895104895 %\n",
            "Accuracy =  89.57604895104895 %\n",
            "8\n",
            "2\n",
            "Training model 1...\n",
            "Training model 2...\n",
            "Training model 3...\n",
            "Training model 4...\n",
            "Accuracy =  89.57604895104895 %\n",
            "Accuracy =  89.57604895104895 %\n",
            "Accuracy =  89.57604895104895 %\n",
            "Accuracy =  89.57604895104895 %\n",
            "8\n",
            "2\n",
            "Training model 1...\n",
            "Training model 2...\n",
            "Training model 3...\n",
            "Training model 4...\n",
            "Accuracy =  93.07255244755245 %\n",
            "Accuracy =  92.9632867132867 %\n",
            "Accuracy =  93.0506993006993 %\n",
            "Accuracy =  92.94143356643356 %\n"
          ],
          "name": "stdout"
        }
      ]
    },
    {
      "cell_type": "code",
      "metadata": {
        "id": "vx6dmWAgndX8",
        "colab_type": "code",
        "outputId": "f3d86c77-365c-4f8e-e573-dad08a0b5566",
        "colab": {
          "base_uri": "https://localhost:8080/",
          "height": 398
        }
      },
      "source": [
        "pos=np.arange(26)\n",
        "plt.figure(figsize=(10,5))\n",
        "plt.stem(pos, np.mean(np.transpose((pre1,pre2,pre3,pre4)), axis=1), linefmt=':b', markerfmt='vr')\n",
        "plt.title('Prediction per characteristic')\n",
        "plt.xlabel('Feature')\n",
        "plt.ylabel('Percentage')\n",
        "plt.ylim([0.8, 1])\n",
        "plt.xticks(pos,lab, rotation='vertical')\n",
        "plt.grid()\n"
      ],
      "execution_count": 33,
      "outputs": [
        {
          "output_type": "display_data",
          "data": {
            "image/png": "[encoded data removed]",
            "text/plain": [
              "<Figure size 720x360 with 1 Axes>"
            ]
          },
          "metadata": {
            "tags": []
          }
        }
      ]
    },
    {
      "cell_type": "code",
      "metadata": {
        "id": "-ZfQbPaZ2R6p",
        "colab_type": "code",
        "colab": {}
      },
      "source": [
        "accuracy=np.mean(np.transpose((pre1,pre2,pre3,pre4)), axis=1)\n",
        "ind=np.argsort(accuracy)[::-1]"
      ],
      "execution_count": 0,
      "outputs": []
    },
    {
      "cell_type": "code",
      "metadata": {
        "id": "AGqrtxCK3GwT",
        "colab_type": "code",
        "colab": {
          "base_uri": "https://localhost:8080/",
          "height": 352
        },
        "outputId": "4d70dfd4-03e8-4389-f404-484bbed39b8a"
      },
      "source": [
        "plt.figure(figsize=(10,5))\n",
        "plt.stem(pos, accuracy[ind], linefmt=':b', markerfmt='vr')\n",
        "plt.title('Prediction per characteristic')\n",
        "plt.xlabel('Feature')\n",
        "plt.ylabel('Percentage')\n",
        "plt.ylim([0.8, 1])\n",
        "plt.xticks(pos,ind, rotation='vertical')\n",
        "plt.grid()"
      ],
      "execution_count": 45,
      "outputs": [
        {
          "output_type": "display_data",
          "data": {
            "image/png": "[encoded data removed]",
            "text/plain": [
              "<Figure size 720x360 with 1 Axes>"
            ]
          },
          "metadata": {
            "tags": []
          }
        }
      ]
    },
    {
      "cell_type": "code",
      "metadata": {
        "id": "L9tCurYu4cpX",
        "colab_type": "code",
        "colab": {
          "base_uri": "https://localhost:8080/",
          "height": 544
        },
        "outputId": "40ad99ed-4cf7-4aaf-d2ef-bf7c74ea77b3"
      },
      "source": [
        "for i in ind:\n",
        "  print(lab[i])\n",
        "print(accuracy[ind])"
      ],
      "execution_count": 56,
      "outputs": [
        {
          "output_type": "stream",
          "text": [
            "fALFF4\n",
            "ALFF4\n",
            "VCF\n",
            "ALFF5\n",
            "Jump_1\n",
            "fALFF5\n",
            "fALFF2\n",
            "PSR\n",
            "ALFF3\n",
            "Kurtosis\n",
            "Mean\n",
            "Median\n",
            "Entropy\n",
            "Negentropy\n",
            "Jump_2\n",
            "MNF\n",
            "MDF\n",
            "TTP\n",
            "MNP\n",
            "PKF\n",
            "SM1\n",
            "SM2\n",
            "SM3\n",
            "ALFF2\n",
            "Jump_3\n",
            "fALFF3\n",
            "[0.95602054 0.94886364 0.93006993 0.92324082 0.9183785  0.91078453\n",
            " 0.89953016 0.89576049 0.89576049 0.89576049 0.89576049 0.89576049\n",
            " 0.89576049 0.89576049 0.89576049 0.89576049 0.89576049 0.89576049\n",
            " 0.89576049 0.89576049 0.89576049 0.89576049 0.89576049 0.89483173\n",
            " 0.89373907 0.89352054]\n"
          ],
          "name": "stdout"
        }
      ]
    },
    {
      "cell_type": "code",
      "metadata": {
        "id": "nOBPQdOu5a9r",
        "colab_type": "code",
        "colab": {
          "base_uri": "https://localhost:8080/",
          "height": 51
        },
        "outputId": "dd74e0fe-f88d-4a80-c173-c04e0cd3ed39"
      },
      "source": [
        "ind"
      ],
      "execution_count": 57,
      "outputs": [
        {
          "output_type": "execute_result",
          "data": {
            "text/plain": [
              "array([ 6,  2, 25,  3, 13,  7,  4, 24,  1,  8,  9, 10, 11, 12, 14, 16, 17,\n",
              "       18, 19, 20, 21, 22, 23,  0, 15,  5])"
            ]
          },
          "metadata": {
            "tags": []
          },
          "execution_count": 57
        }
      ]
    }
  ]
}
