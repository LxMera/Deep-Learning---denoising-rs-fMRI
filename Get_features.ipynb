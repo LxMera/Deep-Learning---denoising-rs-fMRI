{
  "nbformat": 4,
  "nbformat_minor": 0,
  "metadata": {
    "colab": {
      "name": "Get_features.ipynb",
      "provenance": [],
      "collapsed_sections": [],
      "include_colab_link": true
    },
    "kernelspec": {
      "name": "python3",
      "display_name": "Python 3"
    },
    "accelerator": "GPU"
  },
  "cells": [
    {
      "cell_type": "markdown",
      "metadata": {
        "id": "view-in-github",
        "colab_type": "text"
      },
      "source": [
        "<a href=\"https://colab.research.google.com/github/LxMera/Deep-Learning---denoising-rs-fMRI/blob/master/Get_features.ipynb\" target=\"_parent\"><img src=\"https://colab.research.google.com/assets/colab-badge.svg\" alt=\"Open In Colab\"/></a>"
      ]
    },
    {
      "cell_type": "code",
      "metadata": {
        "id": "fiwKHE4YnARI",
        "colab_type": "code",
        "outputId": "3dbfd8d8-a0d7-46a3-cc5b-bbe86de6b876",
        "colab": {
          "base_uri": "https://localhost:8080/",
          "height": 34
        }
      },
      "source": [
        "import os.path as path\n",
        "if path.exists('Data'):   \n",
        "    print ('The folder already exists')\n",
        "else:\n",
        "    !wget -nc https://www.dropbox.com/s/0mfhfsl137dchs4/DataFix.mat?dl=1\n",
        "    !wget -nc https://www.dropbox.com/s/9vfa4ehuhu76jjl/Data.zip?dl=1\n",
        "    !unzip Data.zip?dl=1 | awk 'BEGIN { ORS = \"\" } { print \"|\" }'\n",
        "    !rm -r Data.zip?dl=1\n",
        "    !mv DataFix.mat?dl=1 Data/DataFix.mat"
      ],
      "execution_count": 77,
      "outputs": [
        {
          "output_type": "stream",
          "text": [
            "The folder already exists\n"
          ],
          "name": "stdout"
        }
      ]
    },
    {
      "cell_type": "code",
      "metadata": {
        "id": "jOJ-PCdxoJef",
        "colab_type": "code",
        "outputId": "33576f66-01da-400e-e266-8f2c22a6c87c",
        "colab": {
          "base_uri": "https://localhost:8080/",
          "height": 187
        }
      },
      "source": [
        "!pip install spectrum"
      ],
      "execution_count": 78,
      "outputs": [
        {
          "output_type": "stream",
          "text": [
            "Requirement already satisfied: spectrum in /usr/local/lib/python3.6/dist-packages (0.7.5)\n",
            "Requirement already satisfied: numpy in /usr/local/lib/python3.6/dist-packages (from spectrum) (1.17.4)\n",
            "Requirement already satisfied: scipy in /usr/local/lib/python3.6/dist-packages (from spectrum) (1.3.2)\n",
            "Requirement already satisfied: matplotlib in /usr/local/lib/python3.6/dist-packages (from spectrum) (3.1.1)\n",
            "Requirement already satisfied: cycler>=0.10 in /usr/local/lib/python3.6/dist-packages (from matplotlib->spectrum) (0.10.0)\n",
            "Requirement already satisfied: kiwisolver>=1.0.1 in /usr/local/lib/python3.6/dist-packages (from matplotlib->spectrum) (1.1.0)\n",
            "Requirement already satisfied: python-dateutil>=2.1 in /usr/local/lib/python3.6/dist-packages (from matplotlib->spectrum) (2.6.1)\n",
            "Requirement already satisfied: pyparsing!=2.0.4,!=2.1.2,!=2.1.6,>=2.0.1 in /usr/local/lib/python3.6/dist-packages (from matplotlib->spectrum) (2.4.5)\n",
            "Requirement already satisfied: six in /usr/local/lib/python3.6/dist-packages (from cycler>=0.10->matplotlib->spectrum) (1.12.0)\n",
            "Requirement already satisfied: setuptools in /usr/local/lib/python3.6/dist-packages (from kiwisolver>=1.0.1->matplotlib->spectrum) (41.4.0)\n"
          ],
          "name": "stdout"
        }
      ]
    },
    {
      "cell_type": "code",
      "metadata": {
        "id": "ZhRhuLFKn-dG",
        "colab_type": "code",
        "colab": {}
      },
      "source": [
        "import numpy as np\n",
        "import math\n",
        "import scipy.io\n",
        "from scipy.stats import kurtosis \n",
        "import matplotlib.pyplot as plt\n",
        "import cv2\n",
        "from scipy.fftpack import fft\n",
        "from spectrum import pmtm\n",
        "from scipy import signal"
      ],
      "execution_count": 0,
      "outputs": []
    },
    {
      "cell_type": "code",
      "metadata": {
        "id": "oYJaeIsxoRgz",
        "colab_type": "code",
        "colab": {}
      },
      "source": [
        "def nextpow2(i):\n",
        "    p=1\n",
        "    while True:\n",
        "        if 2**p >= i:\n",
        "            break\n",
        "        else:\n",
        "            p=p+1\n",
        "    return p"
      ],
      "execution_count": 0,
      "outputs": []
    },
    {
      "cell_type": "code",
      "metadata": {
        "id": "2OJCV9BUoWgi",
        "colab_type": "code",
        "colab": {}
      },
      "source": [
        "def ALFF_fALFF(slow, ASamplePeriod, nDimTimePoints, AllVolume, plots=False):\n",
        "    row,col=np.shape(AllVolume)\n",
        "    #slow2, slow3, slow4 and slow5\n",
        "    SlowHigh=[0.25, 0.198, 0.073, 0.027]\n",
        "    SlowLow=[0.198, 0.073, 0.027, 0.01]\n",
        "\n",
        "    HighCutoff=SlowHigh[slow] #the High edge of the pass band\n",
        "    LowCutoff=SlowLow[slow]   #the low edge of the pass band\n",
        "    \n",
        "    sampleFreq \t = 1/ASamplePeriod\n",
        "    sampleLength = nDimTimePoints\n",
        "    paddedLength = 2**(nextpow2(sampleLength))\n",
        "    \n",
        "    if (LowCutoff >= sampleFreq/2): # All high included\n",
        "        idx_LowCutoff = paddedLength/2 + 1;\n",
        "    else: # high cut off, such as freq > 0.01 Hz\n",
        "        idx_LowCutoff = math.ceil(LowCutoff * paddedLength * ASamplePeriod + 1);\n",
        "    # Change from round to ceil: idx_LowCutoff = round(LowCutoff *paddedLength *ASamplePeriod + 1);\n",
        "\n",
        "    if (HighCutoff>=sampleFreq/2)and(HighCutoff==0):# All low pass\n",
        "        idx_HighCutoff = paddedLength/2 + 1;\n",
        "    else: #Low pass, such as freq < 0.08 Hz\n",
        "        idx_HighCutoff =  np.fix (HighCutoff *paddedLength *ASamplePeriod + 1);\n",
        "    # Change from round to fix: idx_HighCutoff\t=round(HighCutoff *paddedLength *ASamplePeriod + 1);\n",
        "    #Zero Padding\n",
        "    a = np.zeros((paddedLength - sampleLength,len(AllVolume[2])))\n",
        "    AllVolume = np.concatenate((AllVolume, a), axis=0)\n",
        "    \n",
        "    \n",
        "    print('\\t Performing FFT ...');\n",
        "    \n",
        "    AllVolume=np.transpose(AllVolume)\n",
        "    AllVolume = 2*np.true_divide(abs(scipy.fft(AllVolume)),sampleLength);\n",
        "    AllVolume=np.transpose(AllVolume)\n",
        "    \n",
        "    print('Calculating ALFF for slow', slow+2,' ...')    \n",
        "    ALFF_2D = np.mean(AllVolume[idx_LowCutoff:int(idx_HighCutoff)], axis=0)\n",
        "    \n",
        "    print('Calculating fALFF for slow', slow+2,' ...')\n",
        "    num = np.sum(AllVolume[(idx_LowCutoff):int(idx_HighCutoff)],axis=0,dtype=float)\n",
        "    den = np.sum(AllVolume[2:int(paddedLength/2 + 1)],axis=0,dtype=float)\n",
        "    fALFF_2D =  num/den\n",
        "       \n",
        "    metricas = np.concatenate((ALFF_2D, fALFF_2D), axis=0).reshape((2,col))\n",
        "    \n",
        "    if plots:\n",
        "        plt.figure()\n",
        "        plt.title('Power Spectral Density')\n",
        "        freq=np.arange(0.0, 1/ASamplePeriod, 1/(ASamplePeriod*np.shape(AllVolume)[0]))\n",
        "        plt.plot(freq,AllVolume)\n",
        "        \n",
        "        plt.figure()\n",
        "        plt.title('ALFF')\n",
        "        plt.plot(metricas[0,:])\n",
        "        \n",
        "        plt.figure()\n",
        "        plt.title('fALFF')\n",
        "        plt.plot(metricas[1,:]) \n",
        "    \n",
        "    return metricas"
      ],
      "execution_count": 0,
      "outputs": []
    },
    {
      "cell_type": "code",
      "metadata": {
        "id": "30bUhAN-oY9g",
        "colab_type": "code",
        "colab": {}
      },
      "source": [
        "def Multitaper(Dx, shw=False):\n",
        "    #print('Multitaper...')\n",
        "    if shw:\n",
        "        plt.figure()\n",
        "        plt.title('Multitaper')\n",
        "    if np.shape(np.shape(Dx))[0]==1:\n",
        "        Sk_complex , weights , _ = pmtm(Dx, NW=2.5, k=5, show=shw)\n",
        "        Sk = abs(Sk_complex)**2;\n",
        "        Sk = Sk.transpose();\n",
        "        Sk = np.mean(Sk * weights, axis=1);\n",
        "    else:\n",
        "        sign=np.shape(Dx)[1]\n",
        "        Sk=[]\n",
        "        for i in range(sign):\n",
        "            Sk_complex , weights , _ = pmtm(Dx[:,i], NW=2.5, k=5, show=shw)\n",
        "            Sk0 = abs(Sk_complex)**2;\n",
        "            Sk0 = Sk0.transpose();\n",
        "            Sk.append(np.mean(Sk0 * weights, axis=1))\n",
        "        Sk=np.transpose(Sk)\n",
        "    return Sk"
      ],
      "execution_count": 0,
      "outputs": []
    },
    {
      "cell_type": "code",
      "metadata": {
        "id": "4F3nzoiVoffu",
        "colab_type": "code",
        "colab": {}
      },
      "source": [
        "def periodogram(y, fx):\n",
        "  fy, px = signal.periodogram(y, fx, axis=0)\n",
        "  return px, fy"
      ],
      "execution_count": 0,
      "outputs": []
    },
    {
      "cell_type": "code",
      "metadata": {
        "id": "WZMrXoQhosKC",
        "colab_type": "code",
        "colab": {}
      },
      "source": [
        "def MNF(y, fs):\n",
        "    print('Calculating Mean frequency...')\n",
        "    px, fy=periodogram(y, fs)\n",
        "    y=np.dot(fy,px)/np.sum(px, axis=0)     \n",
        "    return y"
      ],
      "execution_count": 0,
      "outputs": []
    },
    {
      "cell_type": "code",
      "metadata": {
        "id": "9tCrGAlqqpGv",
        "colab_type": "code",
        "colab": {}
      },
      "source": [
        "def MDF(y, fs):\n",
        "    print('Calculating Median frequency...')\n",
        "    px, fy=periodogram(y, fs)\n",
        "\n",
        "    suma=np.sum(px, axis=0)/2\n",
        "    sumc=np.cumsum(px, axis=0)\n",
        "\n",
        "    indx=[]\n",
        "    for i in range(np.shape(y)[1]):\n",
        "      indx.append(np.sum(sumc[:,i]<suma[i]))\n",
        "    f=fy[indx]\n",
        "    return f"
      ],
      "execution_count": 0,
      "outputs": []
    },
    {
      "cell_type": "code",
      "metadata": {
        "id": "hGUs6mfRqp8N",
        "colab_type": "code",
        "colab": {}
      },
      "source": [
        "def TTP(y, fs):\n",
        "    print('Calculating Total power...')\n",
        "    px, fy=periodogram(y, fs)\n",
        "    y=np.sum(px, axis=0)\n",
        "    return y"
      ],
      "execution_count": 0,
      "outputs": []
    },
    {
      "cell_type": "code",
      "metadata": {
        "id": "n8X8anq0qqrW",
        "colab_type": "code",
        "colab": {}
      },
      "source": [
        "def MNP(y, fs):\n",
        "    print('Calculating Mean Power...')\n",
        "    px, fy=periodogram(y, fs)\n",
        "    y=np.sum(px, axis=0)/len(px)\n",
        "    return y"
      ],
      "execution_count": 0,
      "outputs": []
    },
    {
      "cell_type": "code",
      "metadata": {
        "id": "dXkc-zWUqrhW",
        "colab_type": "code",
        "colab": {}
      },
      "source": [
        "def PKF(y, fs):\n",
        "    print('Calculating Peak frequency...')\n",
        "    #print('frecuencia maxima')\n",
        "    px, fy=periodogram(y, fs)\n",
        "    ym=np.argmax(px, axis=0)\n",
        "    indx=fy[ym]\n",
        "    return indx"
      ],
      "execution_count": 0,
      "outputs": []
    },
    {
      "cell_type": "code",
      "metadata": {
        "id": "jn2aT5K5qsJn",
        "colab_type": "code",
        "colab": {}
      },
      "source": [
        "def SM(y, fs, n, tx=True):\n",
        "    if tx:\n",
        "      print('Calculating Spectral moment of order ',n,' ...')\n",
        "    px, fy=periodogram(y, fs)\n",
        "    y=np.dot(fy**n,px)/np.sum(px, axis=0)\n",
        "    return y"
      ],
      "execution_count": 0,
      "outputs": []
    },
    {
      "cell_type": "code",
      "metadata": {
        "id": "CL2Qx-R0qtLH",
        "colab_type": "code",
        "colab": {}
      },
      "source": [
        "def PSR(y, n0=1):\n",
        "    print('Calculating Power spectrum ration...')\n",
        "    px, fy=periodogram(y, fs)\n",
        "    indx=np.argmax(px, axis=0)\n",
        "    mask=np.zeros(np.shape(px))\n",
        "    for i in range(np.shape(px)[1]):\n",
        "      mask[indx[i],i]=1\n",
        "    kernel=np.array([[0, 1, 0], [0, 1, 0], [0, 1, 0]], np.dtype('uint8'))\n",
        "    mask=cv2.dilate(mask, kernel, iterations=n0)\n",
        "    pmx=mask*px\n",
        "    y=np.sum(pmx, axis=0)\n",
        "    yt=np.sum(px, axis=0)\n",
        "    return y/yt"
      ],
      "execution_count": 0,
      "outputs": []
    },
    {
      "cell_type": "code",
      "metadata": {
        "id": "H6RIEHO_qt6t",
        "colab_type": "code",
        "colab": {}
      },
      "source": [
        "def VCF(y, fs):\n",
        "    print('Calculating Variance of central frequency...')\n",
        "    sm0=SM(y, fs, 0, False)\n",
        "    sm1=SM(y, fs, 1, False)\n",
        "    sm2=SM(y, fs, 2, False)\n",
        "    vc=(sm2/sm0) -((sm1/sm0)**2)\n",
        "    return vc"
      ],
      "execution_count": 0,
      "outputs": []
    },
    {
      "cell_type": "code",
      "metadata": {
        "id": "gh3roSVQjVby",
        "colab_type": "code",
        "colab": {}
      },
      "source": [
        "def freq(y, fs):\n",
        "  print('Calculating Kurtosis...')\n",
        "  krt=kurtosis(y, axis=0)\n",
        "  print('Calculating Mean...')\n",
        "  media=np.mean(y, axis=0)\n",
        "  print('Calculating Median...')\n",
        "  mediana=np.median(y, axis=0)\n",
        "\n",
        "  px, fy=periodogram(y, fs)\n",
        "  print('Calculating Entropy...')\n",
        "  entropy=-np.sum(px*np.log(px+0.0001), axis=0)  \n",
        "\n",
        "  print('Calculating Negentropy...')\n",
        "  negentropy=((np.mean(y**3))**2)+(krt**2)\n",
        "\n",
        "  print('Calculating Jump function 1...')\n",
        "  Jump1=np.max(np.abs(np.diff(y, axis=0)*fs), axis=0)/np.std(y, axis=0)\n",
        "  print('Calculating Jump function 2...')\n",
        "  Jump2=np.max(np.abs(np.diff(y, axis=0)*fs), axis=0)/np.std(np.abs(np.diff(y, axis=0)*fs), axis=0)\n",
        "  print('Calculating Jump function 3...')\n",
        "  Jump3=np.mean(np.abs(np.diff(y, axis=0)*fs), axis=0)/np.std(y, axis=0)\n",
        "  fre=np.array([krt, media, mediana, entropy, negentropy, Jump1, Jump2, Jump3])\n",
        "  return fre  "
      ],
      "execution_count": 0,
      "outputs": []
    },
    {
      "cell_type": "code",
      "metadata": {
        "id": "vOPKnvYesghk",
        "colab_type": "code",
        "colab": {}
      },
      "source": [
        "def get_AllMetrics(y,t,point):\n",
        "  alff2=ALFF_fALFF(0,t, point, y, False)\n",
        "  alff3=ALFF_fALFF(1,t, point, y, False)\n",
        "  alff4=ALFF_fALFF(2,t, point, y, False)\n",
        "  alff5=ALFF_fALFF(3,t, point, y, False)\n",
        "  fr=freq(y, 1/t)\n",
        "\n",
        "  ###\n",
        "  fs=1/t\n",
        "\n",
        "  print('Calculating Mean frequency...')\n",
        "  px, fy=periodogram(y, fs)\n",
        "  mnf=np.dot(fy,px)/np.sum(px, axis=0)     \n",
        "  \n",
        "  print('Calculating Median frequency...')\n",
        "  suma=np.sum(px, axis=0)/2\n",
        "  sumc=np.cumsum(px, axis=0)\n",
        "  indx=[]\n",
        "  for i in range(np.shape(y)[1]):\n",
        "    indx.append(np.sum(sumc[:,i]<suma[i]))\n",
        "  mdf=fy[indx]\n",
        "\n",
        "  print('Calculating Total power...')\n",
        "  ttp=np.sum(px, axis=0)\n",
        "\n",
        "  print('Calculating Mean Power...')\n",
        "  mnp=np.sum(px, axis=0)/len(px)\n",
        "\n",
        "  print('Calculating Peak frequency...')\n",
        "  indx=np.argmax(px, axis=0)\n",
        "  pk=fy[indx]\n",
        "\n",
        "  print('Calculating Spectral moment of order 1 ...')\n",
        "  sm1=np.dot(fy**1,px)/np.sum(px, axis=0)\n",
        "  \n",
        "  print('Calculating Spectral moment of order 2 ...')\n",
        "  sm2=np.dot(fy**2,px)/np.sum(px, axis=0)\n",
        "\n",
        "  print('Calculating Spectral moment of order 3 ...')\n",
        "  sm3=np.dot(fy**3,px)/np.sum(px, axis=0)\n",
        "\n",
        "  print('Calculating Power spectrum ration...')\n",
        "  mask=np.zeros(np.shape(px))\n",
        "  for i in range(np.shape(px)[1]):\n",
        "    mask[indx[i],i]=1\n",
        "  kernel=np.array([[0, 1, 0], [0, 1, 0], [0, 1, 0]], np.dtype('uint8'))\n",
        "  mask=cv2.dilate(mask, kernel, iterations=3)\n",
        "  pmx=mask*px\n",
        "  y=np.sum(pmx, axis=0)\n",
        "  yt=np.sum(px, axis=0)\n",
        "  psr=y/yt\n",
        "\n",
        "  print('Calculating Variance of central frequency...')\n",
        "  vcf=(sm2/mnf) -((sm1/mnf)**2)\n",
        "\n",
        "  #Ordenar\n",
        "  alff=np.array([alff2[0,:], alff3[0,:], alff4[0,:], alff5[0,:]])\n",
        "  falff=np.array([alff2[1,:], alff3[1,:], alff4[1,:], alff5[1,:]])  \n",
        "  fr2=np.array([mnf, mdf, ttp, mnp, pk, sm1, sm2, sm3, psr, vcf])\n",
        "\n",
        "  metrics=np.concatenate((alff, falff, fr, fr2), axis=0)\n",
        "  return np.transpose(metrics)"
      ],
      "execution_count": 0,
      "outputs": []
    },
    {
      "cell_type": "code",
      "metadata": {
        "id": "JgCn4cS_n3LM",
        "colab_type": "code",
        "outputId": "f3365edc-98ac-4438-fe1a-2985b29ad3e5",
        "colab": {
          "base_uri": "https://localhost:8080/",
          "height": 968
        }
      },
      "source": [
        "if __name__==\"__main__\":\n",
        "    #Main script\n",
        "    data = scipy.io.loadmat('Data/DataFix.mat')    \n",
        "    DataS=data['series']\n",
        "    \n",
        "    TR=0.7;\n",
        "    TimePoints=1200;\n",
        "    \n",
        "    metricas=get_AllMetrics(DataS,TR,TimePoints)\n",
        "    print(np.shape(metricas))\n",
        "\n",
        "    lab=['ALFF2','ALFF3','ALFF4','ALFF5','fALFF2','fALFF3','fALFF4','fALFF5','Kurtosis','Mean','Median','Entropy','Negentropy','Jump_1','Jump_2','Jump_3','MNF','MDF','TTP','MNP','PKF','SM1','SM2','SM3','PSR','VCF']\n",
        "    tic=np.arange(26)\n",
        "    corr=np.corrcoef(np.transpose(metricas))\n",
        "    plt.figure(figsize=(7,7))\n",
        "    plt.imshow(corr)\n",
        "    plt.xticks(tic, lab, rotation='vertical')\n",
        "    plt.yticks(tic, lab)\n",
        "    plt.colorbar()\n",
        "\n",
        "    np.shape(metricas)\n",
        "    scipy.io.savemat('drive/My Drive/DatosXY.mat', {'Datos_C': metricas})"
      ],
      "execution_count": 94,
      "outputs": [
        {
          "output_type": "stream",
          "text": [
            "\t Performing FFT ...\n",
            "Calculating ALFF for slow 2  ...\n",
            "Calculating fALFF for slow 2  ...\n",
            "\t Performing FFT ...\n",
            "Calculating ALFF for slow 3  ...\n",
            "Calculating fALFF for slow 3  ...\n",
            "\t Performing FFT ...\n",
            "Calculating ALFF for slow 4  ...\n",
            "Calculating fALFF for slow 4  ...\n",
            "\t Performing FFT ...\n",
            "Calculating ALFF for slow 5  ...\n",
            "Calculating fALFF for slow 5  ...\n",
            "Calculating Kurtosis...\n",
            "Calculating Mean...\n",
            "Calculating Median...\n",
            "Calculating Entropy...\n",
            "Calculating Negentropy...\n",
            "Calculating Jump function 1...\n",
            "Calculating Jump function 2...\n",
            "Calculating Jump function 3...\n",
            "Calculating Mean frequency...\n",
            "Calculating Median frequency...\n",
            "Calculating Total power...\n",
            "Calculating Mean Power...\n",
            "Calculating Peak frequency...\n",
            "Calculating Spectral moment of order 1 ...\n",
            "Calculating Spectral moment of order 2 ...\n",
            "Calculating Spectral moment of order 3 ...\n",
            "Calculating Power spectrum ration...\n",
            "Calculating Variance of central frequency...\n",
            "(22877, 26)\n"
          ],
          "name": "stdout"
        },
        {
          "output_type": "display_data",
          "data": {
            "image/png": "[encoded data removed]",
            "text/plain": [
              "<Figure size 504x504 with 2 Axes>"
            ]
          },
          "metadata": {
            "tags": []
          }
        }
      ]
    }
  ]
}