{
  "nbformat": 4,
  "nbformat_minor": 0,
  "metadata": {
    "colab": {
      "name": "Training with PCA.ipynb",
      "provenance": [],
      "collapsed_sections": [],
      "include_colab_link": true
    },
    "kernelspec": {
      "name": "python3",
      "display_name": "Python 3"
    }
  },
  "cells": [
    {
      "cell_type": "markdown",
      "metadata": {
        "id": "view-in-github",
        "colab_type": "text"
      },
      "source": [
        "<a href=\"https://colab.research.google.com/github/LxMera/Deep-Learning---denoising-rs-fMRI/blob/master/Training_with_PCA.ipynb\" target=\"_parent\"><img src=\"https://colab.research.google.com/assets/colab-badge.svg\" alt=\"Open In Colab\"/></a>"
      ]
    },
    {
      "cell_type": "code",
      "metadata": {
        "id": "jIRetIWQReIe",
        "colab_type": "code",
        "outputId": "e452e4cb-0082-4c65-e9f4-5fbf77ed9a2a",
        "colab": {
          "base_uri": "https://localhost:8080/",
          "height": 35
        }
      },
      "source": [
        "import os.path as path\n",
        "if path.exists('Data'):   \n",
        "    print ('The folder alredy exists')\n",
        "else:\n",
        "    !wget -nc https://www.dropbox.com/s/ufwmggstfj0xr8c/DatosXYZ.mat?dl=1\n",
        "    !wget -nc https://www.dropbox.com/s/9vfa4ehuhu76jjl/Data.zip?dl=1\n",
        "    !unzip Data.zip?dl=1 | awk 'BEGIN { ORS = \"\" } { print \"|\" }'\n",
        "    !rm -r Data.zip?dl=1\n",
        "    !mv DatosXYZ.mat?dl=1 Data/DatosXYZ.mat"
      ],
      "execution_count": 11,
      "outputs": [
        {
          "output_type": "stream",
          "text": [
            "The folder alredy exists\n"
          ],
          "name": "stdout"
        }
      ]
    },
    {
      "cell_type": "code",
      "metadata": {
        "id": "D3r_VcCeRyIe",
        "colab_type": "code",
        "colab": {}
      },
      "source": [
        "import numpy as np\n",
        "import scipy.io"
      ],
      "execution_count": 0,
      "outputs": []
    },
    {
      "cell_type": "markdown",
      "metadata": {
        "id": "tyT8f_jgE3SF",
        "colab_type": "text"
      },
      "source": [
        "### Shape"
      ]
    },
    {
      "cell_type": "code",
      "metadata": {
        "id": "o3ZSBZxPR1zi",
        "colab_type": "code",
        "outputId": "504fc44f-8cbf-4991-f9ab-262dfdaad4d6",
        "colab": {
          "base_uri": "https://localhost:8080/",
          "height": 52
        }
      },
      "source": [
        "mat = scipy.io.loadmat('Data/DatosT.mat')\n",
        "etique = scipy.io.loadmat('Data/LabelFix.mat')\n",
        "Datos=mat['Datos_C']\n",
        "Etiq=np.transpose(etique['series'])[:,0]\n",
        "\n",
        "print (np.shape(Datos))\n",
        "print (np.shape(Etiq))"
      ],
      "execution_count": 13,
      "outputs": [
        {
          "output_type": "stream",
          "text": [
            "(22877, 27)\n",
            "(22877,)\n"
          ],
          "name": "stdout"
        }
      ]
    },
    {
      "cell_type": "code",
      "metadata": {
        "id": "WY1ROdViR67L",
        "colab_type": "code",
        "colab": {}
      },
      "source": [
        "import os\n",
        "import gzip\n",
        "import numpy as np\n",
        "import matplotlib.pyplot as plt\n",
        "import warnings; warnings.simplefilter('ignore')\n",
        "from IPython.display import clear_output"
      ],
      "execution_count": 0,
      "outputs": []
    },
    {
      "cell_type": "markdown",
      "metadata": {
        "id": "0HQWBcRcFETT",
        "colab_type": "text"
      },
      "source": [
        "### training and test data"
      ]
    },
    {
      "cell_type": "code",
      "metadata": {
        "id": "WuBtcI2YR9v6",
        "colab_type": "code",
        "outputId": "7ad506b5-d161-4cb6-e1f7-f6074c53c7f7",
        "colab": {
          "base_uri": "https://localhost:8080/",
          "height": 88
        }
      },
      "source": [
        "por=int(np.shape(Datos)[0]*0.8)\n",
        "\n",
        "X_test=Datos[por:]\n",
        "X_train=Datos[:por]\n",
        "\n",
        "y_test=Etiq[por:]\n",
        "y_train=Etiq[:por]\n",
        "\n",
        "print(X_train.shape)\n",
        "print(y_train.shape)\n",
        "print(X_test.shape)\n",
        "print(y_test.shape)"
      ],
      "execution_count": 15,
      "outputs": [
        {
          "output_type": "stream",
          "text": [
            "(18301, 27)\n",
            "(18301,)\n",
            "(4576, 27)\n",
            "(4576,)\n"
          ],
          "name": "stdout"
        }
      ]
    },
    {
      "cell_type": "code",
      "metadata": {
        "id": "o2rW1jmWSBQN",
        "colab_type": "code",
        "outputId": "7a98b558-397d-4a79-e9ed-c1f4b3d658e2",
        "colab": {
          "base_uri": "https://localhost:8080/",
          "height": 389
        }
      },
      "source": [
        "ind = np.random.permutation(X_train.shape[0])\n",
        "plt.plot(X_train[ind[0],:]);\n",
        "print(X_train[ind[0]])"
      ],
      "execution_count": 16,
      "outputs": [
        {
          "output_type": "stream",
          "text": [
            "[ 8.01010634e-03  1.13630153e-02  2.65592509e-02  6.93982153e-02\n",
            "  1.26223072e-01  1.26223072e-01  1.26223072e-01  1.26223072e-01\n",
            "  1.42954413e+00  1.65319955e+00  7.43776799e-12  1.58884830e-01\n",
            " -7.29122609e+03  2.76817848e+00  1.08809645e+00  8.00862936e+00\n",
            "  1.63375438e-01  1.25359820e-02  2.09263393e-03  1.43240533e+03\n",
            "  6.26133380e-02  2.09263393e-03  1.79566074e+01  5.14431286e+00\n",
            "  2.41240707e+00  0.00000000e+00  3.43422985e-03]\n"
          ],
          "name": "stdout"
        },
        {
          "output_type": "display_data",
          "data": {
            "image/png": "[encoded data removed]",
            "text/plain": [
              "<Figure size 432x288 with 1 Axes>"
            ]
          },
          "metadata": {
            "tags": []
          }
        }
      ]
    },
    {
      "cell_type": "code",
      "metadata": {
        "id": "mV9aHnmpSC0Z",
        "colab_type": "code",
        "outputId": "c05d4ffe-8acd-479f-b2a4-ef0218e49c55",
        "colab": {
          "base_uri": "https://localhost:8080/",
          "height": 35
        }
      },
      "source": [
        "from keras.utils import np_utils\n",
        "from sklearn.preprocessing import StandardScaler\n",
        "\n",
        "#Input dimensions\n",
        "input_dim = X_train.shape[1]\n",
        "\n",
        "#Standardization\n",
        "scaler = StandardScaler()\n",
        "X_trainNx = scaler.fit_transform(X_train)\n",
        "X_testNx = scaler.fit_transform(X_test)\n",
        "DatosN=scaler.fit_transform(Datos)\n",
        "\n",
        "y_trainOHE = np_utils.to_categorical(y_train)\n",
        "nb_classes = y_trainOHE.shape[1]\n",
        "\n",
        "print(y_trainOHE[ind[0],:])"
      ],
      "execution_count": 18,
      "outputs": [
        {
          "output_type": "stream",
          "text": [
            "[1. 0.]\n"
          ],
          "name": "stdout"
        }
      ]
    },
    {
      "cell_type": "code",
      "metadata": {
        "id": "ihkHUG7cSiDP",
        "colab_type": "code",
        "outputId": "7518b089-c678-41b2-b289-31aed1d11d75",
        "colab": {
          "base_uri": "https://localhost:8080/",
          "height": 542
        }
      },
      "source": [
        "plt.figure(figsize=(10,6))\n",
        "plt.plot(X_trainNx[ind[0],:]);\n",
        "plt.title('Características de un solo sujeto')\n",
        "plt.xlabel('Características')\n",
        "pos=np.arange(27)\n",
        "lab=['ALFF2','ALFF3','ALFF4','ALFF5','fALFF2','fALFF3','fALFF4','fALFF5','AIS','Kurtosis','Mean','Median','Entropy','Negentropy','Jump_1','Jump_2','Jump_3','MNF','MDF','TTP','MNP','PKF','SM1','SM2','SM3','PSR','VCF']\n",
        "plt.xticks(pos,lab, rotation='vertical')\n",
        "plt.ylabel('Valor (Normalizado)')\n",
        "print(X_trainNx[ind[0]])"
      ],
      "execution_count": 19,
      "outputs": [
        {
          "output_type": "stream",
          "text": [
            "[-2.15405197 -2.75794284 -1.71723228 -0.52933085 -1.51316571 -1.51316571\n",
            " -1.51316571 -1.51316571  2.65869612 -0.19298148  0.36707571  1.9892261\n",
            " -3.67493986 -0.05943436 -1.29110532  0.19113036 -2.0506434  -1.92234777\n",
            " -1.4190913   0.03472681  0.03473651 -0.51978386 -1.92234777 -1.59809799\n",
            " -1.47672096  0.         -2.02447312]\n"
          ],
          "name": "stdout"
        },
        {
          "output_type": "display_data",
          "data": {
            "image/png": "[encoded data removed]",
            "text/plain": [
              "<Figure size 720x432 with 1 Axes>"
            ]
          },
          "metadata": {
            "tags": []
          }
        }
      ]
    },
    {
      "cell_type": "code",
      "metadata": {
        "id": "QcurtPb7UZtl",
        "colab_type": "code",
        "colab": {}
      },
      "source": [
        "from keras.models import Sequential\n",
        "from keras.layers import Dense, Activation\n",
        "from keras.layers import Dropout\n",
        "from sklearn.decomposition import FastICA, PCA"
      ],
      "execution_count": 0,
      "outputs": []
    },
    {
      "cell_type": "code",
      "metadata": {
        "id": "nBgKuqM_Sj8_",
        "colab_type": "code",
        "outputId": "d4700502-d18b-4a1a-bad6-3ad2e3d7d823",
        "colab": {
          "base_uri": "https://localhost:8080/",
          "height": 1000
        }
      },
      "source": [
        "bat=500\n",
        "reg=0.4\n",
        "epo=100\n",
        "pre1=[]\n",
        "pre2=[]\n",
        "pre3=[]\n",
        "pre4=[]\n",
        "  \n",
        "for co in range(27,10,-1):\n",
        "  pca = PCA(n_components=co)\n",
        "  X_trainN = pca.fit_transform(X_trainNx)\n",
        "  X_testN = pca.fit_transform(X_testNx)\n",
        "  \n",
        "  input_dim = X_testN.shape[1]\n",
        "  print (input_dim)\n",
        "  print (nb_classes)\n",
        "  \n",
        "  #first\n",
        "  model = Sequential()\n",
        "  model.add(Dense(13, input_dim=input_dim))\n",
        "  model.add(Activation('tanh'))\n",
        "  model.add(Dropout(reg))\n",
        "  model.add(Dense(6))\n",
        "  model.add(Activation('tanh'))\n",
        "  model.add(Dropout(reg))\n",
        "  model.add(Dense(nb_classes, activation='softmax'))\n",
        "  \n",
        "  #second\n",
        "  model2 = Sequential()\n",
        "  model2.add(Dense(8, input_dim=input_dim))\n",
        "  model2.add(Activation('tanh'))\n",
        "  model2.add(Dropout(reg))\n",
        "  model2.add(Dense(4))\n",
        "  model2.add(Activation('tanh'))\n",
        "  model2.add(Dropout(reg))\n",
        "  model2.add(Dense(nb_classes, activation='softmax'))\n",
        "  \n",
        "  #third\n",
        "  model3 = Sequential()\n",
        "  model3.add(Dense(16, input_dim=input_dim))\n",
        "  model3.add(Activation('tanh'))\n",
        "  model3.add(Dropout(reg))\n",
        "  model3.add(Dense(8))\n",
        "  model3.add(Activation('tanh'))\n",
        "  model3.add(Dropout(reg))\n",
        "  model3.add(Dense(4))\n",
        "  model3.add(Activation('tanh'))\n",
        "  model3.add(Dropout(reg))\n",
        "  model3.add(Dense(nb_classes, activation='softmax'))\n",
        "\n",
        "  #Fourth\n",
        "  model4 = Sequential()\n",
        "  model4.add(Dense(8, input_dim=input_dim))\n",
        "  model4.add(Activation('tanh'))\n",
        "  model4.add(Dropout(reg))\n",
        "  model4.add(Dense(nb_classes, activation='softmax'))\n",
        "\n",
        "  #model parameters\n",
        "  model.compile(loss='categorical_crossentropy', optimizer='sgd', metrics=['accuracy'])\n",
        "  model2.compile(loss='categorical_crossentropy', optimizer='sgd', metrics=['accuracy'])\n",
        "  model3.compile(loss='categorical_crossentropy', optimizer='sgd', metrics=['accuracy'])\n",
        "  model4.compile(loss='categorical_crossentropy', optimizer='sgd', metrics=['accuracy'])\n",
        "  \n",
        "  print(\"Training model 1...\")\n",
        "  history1x=model.fit(X_trainN, y_trainOHE, epochs=epo, batch_size=bat, validation_split=0.1, verbose=0)\n",
        "  \n",
        "  print(\"Training model 2...\")\n",
        "  history2x=model2.fit(X_trainN, y_trainOHE, epochs=epo, batch_size=bat, validation_split=0.1, verbose=0)\n",
        "  \n",
        "  print(\"Training model 3...\")\n",
        "  history3x=model3.fit(X_trainN, y_trainOHE, epochs=epo, batch_size=bat, validation_split=0.1, verbose=0)\n",
        "  \n",
        "  print(\"Training model 4...\")\n",
        "  history4x=model4.fit(X_trainN, y_trainOHE, epochs=epo, batch_size=bat, validation_split=0.1, verbose=0)\n",
        "  \n",
        "  \n",
        "  #clear_output(wait=True)  \n",
        "  preds = model.predict_classes(X_testN, verbose=0)\n",
        "  Accuracy = np.mean(preds == y_test)\n",
        "  pre1.append(Accuracy)  \n",
        "  print('Accuracy = ', Accuracy*100, '%')\n",
        "    \n",
        "  preds2 = model2.predict_classes(X_testN, verbose=0)\n",
        "  Accuracy2 = np.mean(preds2 == y_test)\n",
        "  pre2.append(Accuracy2)\n",
        "  print('Accuracy = ', Accuracy2*100, '%')  \n",
        "  \n",
        "  preds3 = model3.predict_classes(X_testN, verbose=0)\n",
        "  Accuracy3 = np.mean(preds3 == y_test)\n",
        "  pre3.append(Accuracy3)\n",
        "  print('Accuracy = ', Accuracy3*100, '%')\n",
        "  \n",
        "  preds4 = model4.predict_classes(X_testN, verbose=0)\n",
        "  Accuracy4 = np.mean(preds4 == y_test)\n",
        "  pre4.append(Accuracy4)\n",
        "  print('Accuracy = ', Accuracy4*100, '%')\n",
        "  \n",
        "  del model\n",
        "  del model2\n",
        "  del model3\n",
        "  del model4\n",
        "  del pca"
      ],
      "execution_count": 21,
      "outputs": [
        {
          "output_type": "stream",
          "text": [
            "27\n",
            "2\n",
            "Training model 1...\n",
            "Training model 2...\n",
            "Training model 3...\n",
            "Training model 4...\n",
            "Accuracy =  95.08304195804196 %\n",
            "Accuracy =  94.88636363636364 %\n",
            "Accuracy =  93.75 %\n",
            "Accuracy =  93.92482517482517 %\n",
            "26\n",
            "2\n",
            "Training model 1...\n",
            "Training model 2...\n",
            "Training model 3...\n",
            "Training model 4...\n",
            "Accuracy =  94.93006993006993 %\n",
            "Accuracy =  95.25786713286713 %\n",
            "Accuracy =  94.90821678321679 %\n",
            "Accuracy =  93.81555944055944 %\n",
            "25\n",
            "2\n",
            "Training model 1...\n",
            "Training model 2...\n",
            "Training model 3...\n",
            "Training model 4...\n",
            "Accuracy =  95.06118881118881 %\n",
            "Accuracy =  95.12674825174825 %\n",
            "Accuracy =  93.66258741258741 %\n",
            "Accuracy =  93.50961538461539 %\n",
            "24\n",
            "2\n",
            "Training model 1...\n",
            "Training model 2...\n",
            "Training model 3...\n",
            "Training model 4...\n",
            "Accuracy =  94.27447552447552 %\n",
            "Accuracy =  93.33479020979021 %\n",
            "Accuracy =  93.4222027972028 %\n",
            "Accuracy =  93.72814685314685 %\n",
            "23\n",
            "2\n",
            "Training model 1...\n",
            "Training model 2...\n",
            "Training model 3...\n",
            "Training model 4...\n",
            "Accuracy =  93.3784965034965 %\n",
            "Accuracy =  94.6896853146853 %\n",
            "Accuracy =  93.75 %\n",
            "Accuracy =  94.4493006993007 %\n",
            "22\n",
            "2\n",
            "Training model 1...\n",
            "Training model 2...\n",
            "Training model 3...\n",
            "Training model 4...\n",
            "Accuracy =  94.14335664335664 %\n",
            "Accuracy =  94.0777972027972 %\n",
            "Accuracy =  94.20891608391608 %\n",
            "Accuracy =  94.55856643356644 %\n",
            "21\n",
            "2\n",
            "Training model 1...\n",
            "Training model 2...\n",
            "Training model 3...\n",
            "Training model 4...\n",
            "Accuracy =  93.77185314685315 %\n",
            "Accuracy =  94.93006993006993 %\n",
            "Accuracy =  95.08304195804196 %\n",
            "Accuracy =  93.29108391608392 %\n",
            "20\n",
            "2\n",
            "Training model 1...\n",
            "Training model 2...\n",
            "Training model 3...\n",
            "Training model 4...\n",
            "Accuracy =  94.20891608391608 %\n",
            "Accuracy =  93.44405594405595 %\n",
            "Accuracy =  94.58041958041959 %\n",
            "Accuracy =  94.36188811188812 %\n",
            "19\n",
            "2\n",
            "Training model 1...\n",
            "Training model 2...\n",
            "Training model 3...\n",
            "Training model 4...\n",
            "Accuracy =  92.65734265734265 %\n",
            "Accuracy =  91.08391608391608 %\n",
            "Accuracy =  93.92482517482517 %\n",
            "Accuracy =  93.94667832167832 %\n",
            "18\n",
            "2\n",
            "Training model 1...\n",
            "Training model 2...\n",
            "Training model 3...\n",
            "Training model 4...\n",
            "Accuracy =  94.23076923076923 %\n",
            "Accuracy =  94.14335664335664 %\n",
            "Accuracy =  95.60751748251748 %\n",
            "Accuracy =  93.7062937062937 %\n",
            "17\n",
            "2\n",
            "Training model 1...\n",
            "Training model 2...\n",
            "Training model 3...\n",
            "Training model 4...\n",
            "Accuracy =  94.16520979020979 %\n",
            "Accuracy =  93.7937062937063 %\n",
            "Accuracy =  94.47115384615384 %\n",
            "Accuracy =  92.7666083916084 %\n",
            "16\n",
            "2\n",
            "Training model 1...\n",
            "Training model 2...\n",
            "Training model 3...\n",
            "Training model 4...\n",
            "Accuracy =  94.75524475524476 %\n",
            "Accuracy =  91.38986013986013 %\n",
            "Accuracy =  93.35664335664336 %\n",
            "Accuracy =  94.05594405594405 %\n",
            "15\n",
            "2\n",
            "Training model 1...\n",
            "Training model 2...\n",
            "Training model 3...\n",
            "Training model 4...\n",
            "Accuracy =  93.96853146853147 %\n",
            "Accuracy =  94.01223776223776 %\n",
            "Accuracy =  95.01748251748252 %\n",
            "Accuracy =  92.8103146853147 %\n",
            "14\n",
            "2\n",
            "Training model 1...\n",
            "Training model 2...\n",
            "Training model 3...\n",
            "Training model 4...\n",
            "Accuracy =  95.5201048951049 %\n",
            "Accuracy =  95.36713286713287 %\n",
            "Accuracy =  94.55856643356644 %\n",
            "Accuracy =  94.27447552447552 %\n",
            "13\n",
            "2\n",
            "Training model 1...\n",
            "Training model 2...\n",
            "Training model 3...\n",
            "Training model 4...\n",
            "Accuracy =  93.53146853146853 %\n",
            "Accuracy =  93.3784965034965 %\n",
            "Accuracy =  93.07255244755245 %\n",
            "Accuracy =  93.48776223776224 %\n",
            "12\n",
            "2\n",
            "Training model 1...\n",
            "Training model 2...\n",
            "Training model 3...\n",
            "Training model 4...\n",
            "Accuracy =  95.21416083916084 %\n",
            "Accuracy =  95.34527972027972 %\n",
            "Accuracy =  94.51486013986013 %\n",
            "Accuracy =  93.59702797202797 %\n",
            "11\n",
            "2\n",
            "Training model 1...\n",
            "Training model 2...\n",
            "Training model 3...\n",
            "Training model 4...\n",
            "Accuracy =  93.96853146853147 %\n",
            "Accuracy =  93.85926573426573 %\n",
            "Accuracy =  94.42744755244755 %\n",
            "Accuracy =  95.32342657342657 %\n"
          ],
          "name": "stdout"
        }
      ]
    },
    {
      "cell_type": "code",
      "metadata": {
        "id": "vx6dmWAgndX8",
        "colab_type": "code",
        "outputId": "c80be54b-3eb0-43a5-a180-8b63b76e50a5",
        "colab": {
          "base_uri": "https://localhost:8080/",
          "height": 313
        }
      },
      "source": [
        "comp=np.arange(11,28,1)\n",
        "plt.plot(comp,pre1[::-1],'or')\n",
        "plt.plot(comp,pre2[::-1],'*g')\n",
        "plt.plot(comp,pre3[::-1],'vb')\n",
        "plt.plot(comp,pre4[::-1],'^m')\n",
        "plt.title('Accuracy - latent variables PCA')\n",
        "plt.ylabel('Percentage')\n",
        "plt.xlabel('Number of principal components')\n",
        "plt.legend(['Model 1', 'Model 2', 'Model 3', 'Model 4'], loc='upper rigth')\n",
        "plt.grid()\n",
        "plt.ylim([0.8, 1])"
      ],
      "execution_count": 22,
      "outputs": [
        {
          "output_type": "execute_result",
          "data": {
            "text/plain": [
              "(0.8, 1)"
            ]
          },
          "metadata": {
            "tags": []
          },
          "execution_count": 22
        },
        {
          "output_type": "display_data",
          "data": {
            "image/png": "[encoded data removed]",
            "text/plain": [
              "<Figure size 432x288 with 1 Axes>"
            ]
          },
          "metadata": {
            "tags": []
          }
        }
      ]
    }
  ]
}