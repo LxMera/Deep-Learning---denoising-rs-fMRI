{
  "nbformat": 4,
  "nbformat_minor": 0,
  "metadata": {
    "colab": {
      "name": "Validation with other datasets.ipynb",
      "provenance": [],
      "collapsed_sections": [],
      "include_colab_link": true
    },
    "kernelspec": {
      "name": "python3",
      "display_name": "Python 3"
    },
    "accelerator": "GPU"
  },
  "cells": [
    {
      "cell_type": "markdown",
      "metadata": {
        "id": "view-in-github",
        "colab_type": "text"
      },
      "source": [
        "<a href=\"https://colab.research.google.com/github/LxMera/Deep-Learning---denoising-rs-fMRI/blob/master/Validation_with_other_datasets.ipynb\" target=\"_parent\"><img src=\"https://colab.research.google.com/assets/colab-badge.svg\" alt=\"Open In Colab\"/></a>"
      ]
    },
    {
      "cell_type": "code",
      "metadata": {
        "id": "X3p7AH4UtL41",
        "colab_type": "code",
        "outputId": "f7ab3eb1-2802-411c-ba18-fd33e45dd793",
        "colab": {
          "base_uri": "https://localhost:8080/",
          "height": 34
        }
      },
      "source": [
        "import os\n",
        "if os.path.exists('Data'):   \n",
        "    print ('The folder already exists')\n",
        "else:\n",
        "    print ('Downloading data... ')\n",
        "    os.system('wget -nc https://www.dropbox.com/s/guxvqiq824hhc60/Data.zip?dl=1')\n",
        "    os.system('unzip Data.zip?dl=1 -d Data')\n",
        "    os.system('rm -r Data.zip?dl=1')\n",
        "    os.system('wget -nc https://www.dropbox.com/s/n9zq7srft09ef76/main_features.py?dl=1')   \n",
        "    os.system('wget -nc https://www.dropbox.com/s/5668qyb69793m8p/Hand.zip?dl=1')\n",
        "    os.system('unzip Hand.zip?dl=1 -d Data/')\n",
        "    os.system('rm -r Hand.zip?dl=1')\n",
        "    os.system('mv main_features.py?dl=1 main_features.py')\n",
        "    os.system('wget -nc https://www.dropbox.com/s/tc9y40d8c8kskuv/Standard.zip?dl=1')\n",
        "    os.system('unzip Standard.zip?dl=1 -d Data/')\n",
        "    os.system('rm -r Standard.zip?dl=1')\n",
        "    os.system('wget -nc https://www.dropbox.com/s/u27lvmaw5cakpr8/WhII.zip?dl=1')\n",
        "    os.system('unzip WhII.zip?dl=1 -d Data/')\n",
        "    os.system('rm -r WhII.zip?dl=1')\n",
        "    os.system('wget -nc https://www.dropbox.com/s/m432eescwggki6t/model1.py?dl=1')\n",
        "    os.system('mv model1.py?dl=1 model1.py')"
      ],
      "execution_count": 15,
      "outputs": [
        {
          "output_type": "stream",
          "text": [
            "The folder already exists\n"
          ],
          "name": "stdout"
        }
      ]
    },
    {
      "cell_type": "markdown",
      "metadata": {
        "id": "RGa7veeVNsOd",
        "colab_type": "text"
      },
      "source": [
        "HCP_hp2000 &emsp;&emsp;&emsp;&emsp;&emsp; TR=0.7\n",
        "\n",
        "Hand_clasifi &emsp;&emsp;&emsp;&emsp;&emsp; TR=2.0\n",
        "\n",
        "Standard &emsp;&emsp;&emsp;&emsp;&emsp;&emsp; TR=3.0\n",
        "\n",
        "WhII_MB6 &emsp;&emsp;&emsp;&emsp;&emsp; TR=1.3\n",
        "\n",
        "WhII Standard &emsp;&emsp;&emsp; TR=3.0"
      ]
    },
    {
      "cell_type": "code",
      "metadata": {
        "id": "vIl3Q8mwuAiB",
        "colab_type": "code",
        "colab": {}
      },
      "source": [
        "import scipy.io\n",
        "import numpy as np\n",
        "import main_features as mf\n",
        "import model1 as mod\n",
        "from sklearn.preprocessing import StandardScaler\n",
        "import glob\n",
        "import matplotlib.pyplot as plt"
      ],
      "execution_count": 0,
      "outputs": []
    },
    {
      "cell_type": "code",
      "metadata": {
        "id": "AStPqOxSBCS1",
        "colab_type": "code",
        "colab": {
          "base_uri": "https://localhost:8080/",
          "height": 153
        },
        "outputId": "d2cb0c6a-d81e-45ff-c2b5-0e9e0cfd8ab5"
      },
      "source": [
        "Dat=np.sort(glob.glob('Data/*Data*.mat'))\n",
        "Lab=np.sort(glob.glob('Data/*Label*.mat'))\n",
        "TimeR=[0.7, 2.0, 3.0, 3.0, 3.0, 1.3, 1.3, 3.0]\n",
        "TimeR=[1.3, 3.0, 3.0, 3.0, 1.3, 2.0, 0.7, 3.0]\n",
        "\n",
        "for i in range(8):\n",
        "  print(Dat[i], '\\t\\t', Lab[i])"
      ],
      "execution_count": 17,
      "outputs": [
        {
          "output_type": "stream",
          "text": [
            "Data/1000WhII_MB6Data.mat \t\t Data/1000WhII_MB6Labels.mat\n",
            "Data/145StandData.mat \t\t Data/145StandLabels.mat\n",
            "Data/180StandData.mat \t\t Data/180StandLabels.mat\n",
            "Data/200StandData.mat \t\t Data/200StandLabels.mat\n",
            "Data/460WhII_MB6Data.mat \t\t Data/460WhII_MB6Labels.mat\n",
            "Data/HandData.mat \t\t Data/HandLabel.mat\n",
            "Data/Hp2000Data.mat \t\t Data/Hp2000Labels.mat\n",
            "Data/WhII_StaData.mat \t\t Data/WhII_StaLabels.mat\n"
          ],
          "name": "stdout"
        }
      ]
    },
    {
      "cell_type": "code",
      "metadata": {
        "id": "Tpl1ObdC7tAR",
        "colab_type": "code",
        "colab": {
          "base_uri": "https://localhost:8080/",
          "height": 1000
        },
        "outputId": "346c7fb5-5708-4d19-8288-7755c152005c"
      },
      "source": [
        "mod.downloadH5()\n",
        "network=mod.get_model()\n",
        "scaler = StandardScaler()\n",
        "\n",
        "#points, TR, timeTotal, components, accuracy\n",
        "summary=np.zeros((8,5), np.dtype('float32'))\n",
        "\n",
        "for i in range(8):\n",
        "  series = scipy.io.loadmat(Dat[i])\n",
        "  labels = scipy.io.loadmat(Lab[i])\n",
        "\n",
        "  Data=series[list(series.keys())[-1]]\n",
        "  Labe=np.transpose(labels[list(labels.keys())[-1]])[:,0]\n",
        "\n",
        "  points=np.shape(Data)[0]\n",
        "  TR=TimeR[i]\n",
        "\n",
        "  if i%2==0:\n",
        "    print('\\033[95m\\n')\n",
        "  else:\n",
        "    print('\\033[92m\\n')\n",
        "  print (Dat[i][5:])\n",
        "  print ('Time points and components ', np.shape(Data))\n",
        "  print ('Labels per component', np.shape(Labe),'\\n')\n",
        "\n",
        "  metrics=mf.Metrics6(Data, TR, points)\n",
        "  X_testN = scaler.fit_transform(np.transpose(metrics))\n",
        "  preds = network.predict_classes(X_testN, verbose=0)\n",
        "  AccuracyR = np.mean(preds == (Labe))\n",
        "  print('\\033[94mPrecision = ', AccuracyR*100, '%')\n",
        "\n",
        "  summary[i,0]=points\n",
        "  summary[i,1]=TR\n",
        "  summary[i,2]=points*TR\n",
        "  summary[i,3]=np.shape(Data)[1]\n",
        "  summary[i,4]=AccuracyR"
      ],
      "execution_count": 18,
      "outputs": [
        {
          "output_type": "stream",
          "text": [
            "The file already exists\n",
            "Model: \"sequential_2\"\n",
            "_________________________________________________________________\n",
            "Layer (type)                 Output Shape              Param #   \n",
            "=================================================================\n",
            "dense_4 (Dense)              (None, 13)                91        \n",
            "_________________________________________________________________\n",
            "activation_3 (Activation)    (None, 13)                0         \n",
            "_________________________________________________________________\n",
            "dropout_3 (Dropout)          (None, 13)                0         \n",
            "_________________________________________________________________\n",
            "dense_5 (Dense)              (None, 6)                 84        \n",
            "_________________________________________________________________\n",
            "activation_4 (Activation)    (None, 6)                 0         \n",
            "_________________________________________________________________\n",
            "dropout_4 (Dropout)          (None, 6)                 0         \n",
            "_________________________________________________________________\n",
            "dense_6 (Dense)              (None, 2)                 14        \n",
            "=================================================================\n",
            "Total params: 189\n",
            "Trainable params: 189\n",
            "Non-trainable params: 0\n",
            "_________________________________________________________________\n",
            "\u001b[95m\n",
            "\n",
            "1000WhII_MB6Data.mat\n",
            "Time points and components  (1000, 1797)\n",
            "Labels per component (1797,) \n",
            "\n",
            "Calculating Amplitude of Low Frequency Fluctuations (ALFF) for slow 4  ...\n",
            "Calculating Fractional Amplitude of Low Frequency Fluctuations (fALFF) for slow 4  ...\n",
            "Calculating Amplitude of Low Frequency Fluctuations (ALFF) for slow 5  ...\n",
            "Calculating Fractional Amplitude of Low Frequency Fluctuations (fALFF) for slow 5  ...\n",
            "Calculating Jump function 1...\n",
            "Calculating Variance of central frequency...\n",
            "\n",
            "Order of metrics\n",
            " fALFF slow 4,\n",
            " ALFF slow 4,\n",
            " vcf,\n",
            " ALFF slow 5,\n",
            " jump and\n",
            " fALFF slow 5 \n",
            "\u001b[94mPrecision =  90.03895381190874 %\n",
            "\u001b[92m\n",
            "\n",
            "145StandData.mat\n",
            "Time points and components  (145, 1678)\n",
            "Labels per component (1678,) \n",
            "\n",
            "Calculating Amplitude of Low Frequency Fluctuations (ALFF) for slow 4  ...\n",
            "Calculating Fractional Amplitude of Low Frequency Fluctuations (fALFF) for slow 4  ...\n",
            "Calculating Amplitude of Low Frequency Fluctuations (ALFF) for slow 5  ...\n",
            "Calculating Fractional Amplitude of Low Frequency Fluctuations (fALFF) for slow 5  ...\n",
            "Calculating Jump function 1...\n",
            "Calculating Variance of central frequency...\n",
            "\n",
            "Order of metrics\n",
            " fALFF slow 4,\n",
            " ALFF slow 4,\n",
            " vcf,\n",
            " ALFF slow 5,\n",
            " jump and\n",
            " fALFF slow 5 \n",
            "\u001b[94mPrecision =  47.67580452920143 %\n",
            "\u001b[95m\n",
            "\n",
            "180StandData.mat\n",
            "Time points and components  (180, 329)\n",
            "Labels per component (329,) \n",
            "\n",
            "Calculating Amplitude of Low Frequency Fluctuations (ALFF) for slow 4  ...\n",
            "Calculating Fractional Amplitude of Low Frequency Fluctuations (fALFF) for slow 4  ...\n",
            "Calculating Amplitude of Low Frequency Fluctuations (ALFF) for slow 5  ...\n",
            "Calculating Fractional Amplitude of Low Frequency Fluctuations (fALFF) for slow 5  ...\n",
            "Calculating Jump function 1...\n",
            "Calculating Variance of central frequency...\n",
            "\n",
            "Order of metrics\n",
            " fALFF slow 4,\n",
            " ALFF slow 4,\n",
            " vcf,\n",
            " ALFF slow 5,\n",
            " jump and\n",
            " fALFF slow 5 \n",
            "\u001b[94mPrecision =  51.3677811550152 %\n",
            "\u001b[92m\n",
            "\n",
            "200StandData.mat\n",
            "Time points and components  (200, 3596)\n",
            "Labels per component (3596,) \n",
            "\n",
            "Calculating Amplitude of Low Frequency Fluctuations (ALFF) for slow 4  ...\n",
            "Calculating Fractional Amplitude of Low Frequency Fluctuations (fALFF) for slow 4  ...\n",
            "Calculating Amplitude of Low Frequency Fluctuations (ALFF) for slow 5  ...\n",
            "Calculating Fractional Amplitude of Low Frequency Fluctuations (fALFF) for slow 5  ...\n",
            "Calculating Jump function 1...\n",
            "Calculating Variance of central frequency...\n",
            "\n",
            "Order of metrics\n",
            " fALFF slow 4,\n",
            " ALFF slow 4,\n",
            " vcf,\n",
            " ALFF slow 5,\n",
            " jump and\n",
            " fALFF slow 5 \n",
            "\u001b[94mPrecision =  87.81979977753059 %\n",
            "\u001b[95m\n",
            "\n",
            "460WhII_MB6Data.mat\n",
            "Time points and components  (460, 3346)\n",
            "Labels per component (3346,) \n",
            "\n",
            "Calculating Amplitude of Low Frequency Fluctuations (ALFF) for slow 4  ...\n",
            "Calculating Fractional Amplitude of Low Frequency Fluctuations (fALFF) for slow 4  ...\n",
            "Calculating Amplitude of Low Frequency Fluctuations (ALFF) for slow 5  ...\n",
            "Calculating Fractional Amplitude of Low Frequency Fluctuations (fALFF) for slow 5  ...\n",
            "Calculating Jump function 1...\n",
            "Calculating Variance of central frequency...\n",
            "\n",
            "Order of metrics\n",
            " fALFF slow 4,\n",
            " ALFF slow 4,\n",
            " vcf,\n",
            " ALFF slow 5,\n",
            " jump and\n",
            " fALFF slow 5 \n",
            "\u001b[94mPrecision =  95.33771667662882 %\n",
            "\u001b[92m\n",
            "\n",
            "HandData.mat\n",
            "Time points and components  (242, 460)\n",
            "Labels per component (460,) \n",
            "\n",
            "Calculating Amplitude of Low Frequency Fluctuations (ALFF) for slow 4  ...\n",
            "Calculating Fractional Amplitude of Low Frequency Fluctuations (fALFF) for slow 4  ...\n",
            "Calculating Amplitude of Low Frequency Fluctuations (ALFF) for slow 5  ...\n",
            "Calculating Fractional Amplitude of Low Frequency Fluctuations (fALFF) for slow 5  ...\n",
            "Calculating Jump function 1...\n",
            "Calculating Variance of central frequency...\n",
            "\n",
            "Order of metrics\n",
            " fALFF slow 4,\n",
            " ALFF slow 4,\n",
            " vcf,\n",
            " ALFF slow 5,\n",
            " jump and\n",
            " fALFF slow 5 \n",
            "\u001b[94mPrecision =  55.434782608695656 %\n",
            "\u001b[95m\n",
            "\n",
            "Hp2000Data.mat\n",
            "Time points and components  (1200, 22877)\n",
            "Labels per component (22877,) \n",
            "\n",
            "Calculating Amplitude of Low Frequency Fluctuations (ALFF) for slow 4  ...\n",
            "Calculating Fractional Amplitude of Low Frequency Fluctuations (fALFF) for slow 4  ...\n",
            "Calculating Amplitude of Low Frequency Fluctuations (ALFF) for slow 5  ...\n",
            "Calculating Fractional Amplitude of Low Frequency Fluctuations (fALFF) for slow 5  ...\n",
            "Calculating Jump function 1...\n",
            "Calculating Variance of central frequency...\n",
            "\n",
            "Order of metrics\n",
            " fALFF slow 4,\n",
            " ALFF slow 4,\n",
            " vcf,\n",
            " ALFF slow 5,\n",
            " jump and\n",
            " fALFF slow 5 \n",
            "\u001b[94mPrecision =  97.4384753245618 %\n",
            "\u001b[92m\n",
            "\n",
            "WhII_StaData.mat\n",
            "Time points and components  (200, 3205)\n",
            "Labels per component (3205,) \n",
            "\n",
            "Calculating Amplitude of Low Frequency Fluctuations (ALFF) for slow 4  ...\n",
            "Calculating Fractional Amplitude of Low Frequency Fluctuations (fALFF) for slow 4  ...\n",
            "Calculating Amplitude of Low Frequency Fluctuations (ALFF) for slow 5  ...\n",
            "Calculating Fractional Amplitude of Low Frequency Fluctuations (fALFF) for slow 5  ...\n",
            "Calculating Jump function 1...\n",
            "Calculating Variance of central frequency...\n",
            "\n",
            "Order of metrics\n",
            " fALFF slow 4,\n",
            " ALFF slow 4,\n",
            " vcf,\n",
            " ALFF slow 5,\n",
            " jump and\n",
            " fALFF slow 5 \n",
            "\u001b[94mPrecision =  89.9219968798752 %\n"
          ],
          "name": "stdout"
        }
      ]
    },
    {
      "cell_type": "code",
      "metadata": {
        "id": "KdkMhAIN4o-b",
        "colab_type": "code",
        "colab": {
          "base_uri": "https://localhost:8080/",
          "height": 607
        },
        "outputId": "9acc93fd-bef0-4b05-9706-9d2b27b81efd"
      },
      "source": [
        "plt.figure(figsize=(20,10))\n",
        "plt.subplot(2,2,1)\n",
        "plt.plot(summary[:,0], summary[:,4], 'r*')\n",
        "plt.title('Accuracy per time points')\n",
        "plt.grid()\n",
        "plt.subplot(2,2,2)\n",
        "plt.plot(summary[:,1], summary[:,4], 'r*')\n",
        "plt.title('Accuracy per TR')\n",
        "plt.grid()\n",
        "plt.subplot(2,2,3)\n",
        "plt.plot(summary[:,2]/60, summary[:,4], 'r*')\n",
        "plt.title('Accuracy per total time')\n",
        "plt.grid()\n",
        "plt.subplot(2,2,4)\n",
        "plt.plot(summary[:,3], summary[:,4], 'r*')\n",
        "plt.title('Accuracy per components')\n",
        "plt.grid()"
      ],
      "execution_count": 19,
      "outputs": [
        {
          "output_type": "display_data",
          "data": {
            "image/png": "[encoded data removed]",
            "text/plain": [
              "<Figure size 1440x720 with 4 Axes>"
            ]
          },
          "metadata": {
            "tags": []
          }
        }
      ]
    }
  ]
}