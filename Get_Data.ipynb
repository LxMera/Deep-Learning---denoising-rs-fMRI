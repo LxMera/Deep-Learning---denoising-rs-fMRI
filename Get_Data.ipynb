{
  "nbformat": 4,
  "nbformat_minor": 0,
  "metadata": {
    "colab": {
      "name": "Get_Data.ipynb",
      "provenance": [],
      "collapsed_sections": [],
      "toc_visible": true,
      "include_colab_link": true
    },
    "kernelspec": {
      "name": "python3",
      "display_name": "Python 3"
    },
    "accelerator": "GPU"
  },
  "cells": [
    {
      "cell_type": "markdown",
      "metadata": {
        "id": "view-in-github",
        "colab_type": "text"
      },
      "source": [
        "<a href=\"https://colab.research.google.com/github/LxMera/Deep-Learning---denoising-rs-fMRI/blob/master/Get_Data.ipynb\" target=\"_parent\"><img src=\"https://colab.research.google.com/assets/colab-badge.svg\" alt=\"Open In Colab\"/></a>"
      ]
    },
    {
      "cell_type": "markdown",
      "metadata": {
        "id": "yx2QqqeAJl6n",
        "colab_type": "text"
      },
      "source": [
        "### Hand-Training Datasets\n",
        "Here are data sets of the human connectome project manually classified for FIX.\n",
        "\n",
        "https://www.fmrib.ox.ac.uk/datasets/FIX-training/"
      ]
    },
    {
      "cell_type": "code",
      "metadata": {
        "id": "FXMZv-YWMfG3",
        "colab_type": "code",
        "colab": {}
      },
      "source": [
        "import glob\n",
        "import numpy as np\n",
        "import os\n",
        "import scipy.io as sio\n",
        "import matplotlib.pyplot as plt"
      ],
      "execution_count": 0,
      "outputs": []
    },
    {
      "cell_type": "code",
      "metadata": {
        "id": "5eHp0GlgJkvL",
        "colab_type": "code",
        "colab": {}
      },
      "source": [
        "gz=glob.glob('*.tar.gz')\n",
        "files=np.shape(gz)[0]\n",
        "\n",
        "if files==0:\n",
        "  #Download\n",
        "  os.system('wget https://www.fmrib.ox.ac.uk/datasets/FIX-training/HCP_hp2000_runs1-20.tar.gz')\n",
        "  os.system('wget https://www.fmrib.ox.ac.uk/datasets/FIX-training/HCP_hp2000_runs21-40.tar.gz')\n",
        "  os.system('wget https://www.fmrib.ox.ac.uk/datasets/FIX-training/HCP_hp2000_runs41-60.tar.gz')\n",
        "  os.system('wget https://www.fmrib.ox.ac.uk/datasets/FIX-training/HCP_hp2000_runs61-80.tar.gz')\n",
        "  os.system('wget https://www.fmrib.ox.ac.uk/datasets/FIX-training/HCP_hp2000_runs81-100.tar.gz')\n",
        "  os.system('wget https://www.fmrib.ox.ac.uk/datasets/FIX-training/HCP_hp2000_run1.tar.gz')\n",
        "  os.system('wget https://www.fmrib.ox.ac.uk/datasets/FIX-training/WhII_MB6.tar.gz')\n",
        "  os.system('wget https://www.fmrib.ox.ac.uk/datasets/FIX-training/WhII_Standard.tar.gz')\n",
        "  os.system('wget https://www.fmrib.ox.ac.uk/datasets/FIX-training/Standard.tar.gz')\n",
        "else:\n",
        "  print('The files already exist')"
      ],
      "execution_count": 0,
      "outputs": []
    },
    {
      "cell_type": "code",
      "metadata": {
        "id": "1a-XL2HtKe9n",
        "colab_type": "code",
        "colab": {}
      },
      "source": [
        "gz=glob.glob('*.tar.gz')\n",
        "print('gz files ', np.shape(gz)[0])\n",
        "\n",
        "if os.path.exists('All_Datas'):\n",
        "  print('The folder already exist')\n",
        "else:\n",
        "  print('Creating folder...')\n",
        "  os.system('mkdir All_Datas')\n",
        "  print('...process completed')"
      ],
      "execution_count": 0,
      "outputs": []
    },
    {
      "cell_type": "code",
      "metadata": {
        "id": "rknArK_YK-6t",
        "colab_type": "code",
        "colab": {}
      },
      "source": [
        "folders=glob.glob('All_Datas/*')\n",
        "No=np.shape(folders)[0]\n",
        "\n",
        "if No==0:\n",
        "  for i in gz:\n",
        "    print('tar -xzvf '+i+' -C All_Datas')\n",
        "    os.system('tar -xzvf '+i+' -C All_Datas')\n",
        "else: \n",
        "  print('unzipped files')"
      ],
      "execution_count": 0,
      "outputs": []
    },
    {
      "cell_type": "code",
      "metadata": {
        "id": "kAenyLxgP0JJ",
        "colab_type": "code",
        "colab": {}
      },
      "source": [
        "folders=np.sort(glob.glob('All_Datas/*'))\n",
        "print(folders)"
      ],
      "execution_count": 0,
      "outputs": []
    },
    {
      "cell_type": "markdown",
      "metadata": {
        "id": "WnIyzy2PSwl7",
        "colab_type": "text"
      },
      "source": [
        "### Subjects by folders"
      ]
    },
    {
      "cell_type": "code",
      "metadata": {
        "id": "GFlpoMHTQKTL",
        "colab_type": "code",
        "colab": {}
      },
      "source": [
        "for f in folders:\n",
        "  subjects=glob.glob(f+'/*')\n",
        "  print(np.shape(subjects)[0], 'subjects in ', f)"
      ],
      "execution_count": 0,
      "outputs": []
    },
    {
      "cell_type": "markdown",
      "metadata": {
        "id": "hNXOIWWvUEyk",
        "colab_type": "text"
      },
      "source": [
        "# Get time series and labels"
      ]
    },
    {
      "cell_type": "code",
      "metadata": {
        "id": "6Icunf5Daini",
        "colab_type": "code",
        "colab": {}
      },
      "source": [
        "compSub=[]\n",
        "conver=np.vectorize(int)\n",
        "\n",
        "AllData=np.zeros((1200,1))\n",
        "AllLabels=[]\n",
        "\n",
        "for f in folders:\n",
        "  subjects=glob.glob(f+'/*')\n",
        "  subjects=np.sort(subjects)\n",
        "  \n",
        "  for sub in subjects:\n",
        "    #Leer serie de tiempo\n",
        "    series=np.loadtxt(sub+\"/filtered_func_data.ica/melodic_mix\")\n",
        "    comp=np.shape(series)[1]\n",
        "    compSub.append(comp)\n",
        "    print('Components per subject ', comp)\n",
        "    label1=np.ones(comp)    \n",
        "    AllData=np.concatenate((AllData,series), axis=1)\n",
        "    \n",
        "    #Leer etiquetas manuales\n",
        "    f = open(sub+\"/hand_labels_noise.txt\") \n",
        "    while True:\n",
        "      line = f.readline()\n",
        "      if line=='':\n",
        "        break\n",
        "      handClas=line[1:-2]\n",
        "    handClas= handClas.split(\", \")\n",
        "    handClas=conver(handClas)-1\n",
        "    label1[handClas]=0\n",
        "    AllLabels=np.concatenate((AllLabels, label1))\n",
        "    print('Noise per subject ', np.shape(handClas))\n",
        "    f.close()\n",
        "    \n",
        "AllData=AllData[:,1:]"
      ],
      "execution_count": 0,
      "outputs": []
    },
    {
      "cell_type": "markdown",
      "metadata": {
        "id": "6PVyBgYYlT7y",
        "colab_type": "text"
      },
      "source": [
        "### Components per subject"
      ]
    },
    {
      "cell_type": "code",
      "metadata": {
        "id": "vSU9KEoIZ5Xs",
        "colab_type": "code",
        "colab": {}
      },
      "source": [
        "plt.plot(compSub)\n",
        "plt.xlabel('subject')\n",
        "plt.ylabel('Number of components')\n",
        "print(np.mean(compSub))\n",
        "print(np.std(compSub))"
      ],
      "execution_count": 0,
      "outputs": []
    },
    {
      "cell_type": "markdown",
      "metadata": {
        "id": "wmxQVpG4nQsb",
        "colab_type": "text"
      },
      "source": [
        "#Shape"
      ]
    },
    {
      "cell_type": "code",
      "metadata": {
        "id": "cNqjurxjpwqE",
        "colab_type": "code",
        "colab": {}
      },
      "source": [
        "print('points time and components')\n",
        "print(np.shape(AllData))\n",
        "print('labels per components')\n",
        "print(np.shape(AllLabels))"
      ],
      "execution_count": 0,
      "outputs": []
    },
    {
      "cell_type": "markdown",
      "metadata": {
        "id": "K8xjXaaBnWCB",
        "colab_type": "text"
      },
      "source": [
        "# Plot components"
      ]
    },
    {
      "cell_type": "code",
      "metadata": {
        "id": "zd7gTTRYVdBR",
        "colab_type": "code",
        "colab": {}
      },
      "source": [
        "plt.plot(AllData)\n",
        "plt.xlabel('Time (points)')\n",
        "plt.ylabel('value')\n",
        "print(np.shape(AllData))"
      ],
      "execution_count": 0,
      "outputs": []
    },
    {
      "cell_type": "markdown",
      "metadata": {
        "id": "BFdet5iSm-V5",
        "colab_type": "text"
      },
      "source": [
        "# Save data"
      ]
    },
    {
      "cell_type": "code",
      "metadata": {
        "id": "eyMFjoZctBp6",
        "colab_type": "code",
        "colab": {}
      },
      "source": [
        "sio.savemat('Data.mat', {'series': AllData})\n",
        "sio.savemat('Labels.mat', {'labels': AllLabels})"
      ],
      "execution_count": 0,
      "outputs": []
    },
    {
      "cell_type": "code",
      "metadata": {
        "id": "ghv2wkxbvqS6",
        "colab_type": "code",
        "colab": {}
      },
      "source": [
        "print('Noise components  ', np.sum(AllLabels==0))\n",
        "print('Signal components ', np.sum(AllLabels==1))"
      ],
      "execution_count": 0,
      "outputs": []
    }
  ]
}