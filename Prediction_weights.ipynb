{
  "nbformat": 4,
  "nbformat_minor": 0,
  "metadata": {
    "colab": {
      "name": "Prediction_weights.ipynb",
      "provenance": [],
      "collapsed_sections": [],
      "include_colab_link": true
    },
    "kernelspec": {
      "name": "python3",
      "display_name": "Python 3"
    }
  },
  "cells": [
    {
      "cell_type": "markdown",
      "metadata": {
        "id": "view-in-github",
        "colab_type": "text"
      },
      "source": [
        "<a href=\"https://colab.research.google.com/github/LxMera/Deep-Learning---denoising-rs-fMRI/blob/master/Prediction_weights.ipynb\" target=\"_parent\"><img src=\"https://colab.research.google.com/assets/colab-badge.svg\" alt=\"Open In Colab\"/></a>"
      ]
    },
    {
      "cell_type": "code",
      "metadata": {
        "id": "jIRetIWQReIe",
        "colab_type": "code",
        "outputId": "40dabafd-f8c3-44e5-b101-ed090395f230",
        "colab": {
          "base_uri": "https://localhost:8080/",
          "height": 35
        }
      },
      "source": [
        "import os.path as path\n",
        "if path.exists('Data'):   \n",
        "    print ('The folder already exists')\n",
        "else:\n",
        "    !wget -nc https://www.dropbox.com/s/ufwmggstfj0xr8c/DatosXYZ.mat?dl=1\n",
        "    !wget -nc https://www.dropbox.com/s/9vfa4ehuhu76jjl/Data.zip?dl=1\n",
        "    !unzip Data.zip?dl=1 | awk 'BEGIN { ORS = \"\" } { print \"|\" }'\n",
        "    !rm -r Data.zip?dl=1\n",
        "    !mv DatosXYZ.mat?dl=1 Data/DatosXYZ.mat"
      ],
      "execution_count": 2,
      "outputs": [
        {
          "output_type": "stream",
          "text": [
            "The folder already exists\n"
          ],
          "name": "stdout"
        }
      ]
    },
    {
      "cell_type": "code",
      "metadata": {
        "id": "D3r_VcCeRyIe",
        "colab_type": "code",
        "colab": {}
      },
      "source": [
        "import numpy as np\n",
        "import scipy.io"
      ],
      "execution_count": 0,
      "outputs": []
    },
    {
      "cell_type": "code",
      "metadata": {
        "id": "o3ZSBZxPR1zi",
        "colab_type": "code",
        "outputId": "4c14b3d7-fb5c-42bd-cb39-af817b60547c",
        "colab": {
          "base_uri": "https://localhost:8080/",
          "height": 52
        }
      },
      "source": [
        "mat = scipy.io.loadmat('Data/DatosXYZ.mat')\n",
        "etique = scipy.io.loadmat('Data/LabelFix.mat')\n",
        "Datos=mat['Datos_C']\n",
        "Etiq=np.transpose(etique['series'])[:,0]\n",
        "\n",
        "print (np.shape(Datos))\n",
        "print (np.shape(Etiq))"
      ],
      "execution_count": 4,
      "outputs": [
        {
          "output_type": "stream",
          "text": [
            "(22877, 27)\n",
            "(22877,)\n"
          ],
          "name": "stdout"
        }
      ]
    },
    {
      "cell_type": "code",
      "metadata": {
        "id": "WY1ROdViR67L",
        "colab_type": "code",
        "colab": {}
      },
      "source": [
        "import os\n",
        "import gzip\n",
        "import numpy as np\n",
        "import matplotlib.pyplot as plt\n",
        "import warnings; warnings.simplefilter('ignore')\n",
        "from IPython.display import clear_output"
      ],
      "execution_count": 0,
      "outputs": []
    },
    {
      "cell_type": "markdown",
      "metadata": {
        "id": "3Zi5T0UvWKXw",
        "colab_type": "text"
      },
      "source": [
        "### Training and test data"
      ]
    },
    {
      "cell_type": "code",
      "metadata": {
        "id": "WuBtcI2YR9v6",
        "colab_type": "code",
        "outputId": "d9c623fc-c743-417a-9262-2ca339f8edfc",
        "colab": {
          "base_uri": "https://localhost:8080/",
          "height": 88
        }
      },
      "source": [
        "por=int(np.shape(Datos)[0]*0.8)\n",
        "\n",
        "X_test=Datos[por:]\n",
        "X_train=Datos[:por]\n",
        "\n",
        "y_test=Etiq[por:]\n",
        "y_train=Etiq[:por]\n",
        "\n",
        "print(X_train.shape)\n",
        "print(y_train.shape)\n",
        "print(X_test.shape)\n",
        "print(y_test.shape)"
      ],
      "execution_count": 6,
      "outputs": [
        {
          "output_type": "stream",
          "text": [
            "(18301, 27)\n",
            "(18301,)\n",
            "(4576, 27)\n",
            "(4576,)\n"
          ],
          "name": "stdout"
        }
      ]
    },
    {
      "cell_type": "code",
      "metadata": {
        "id": "o2rW1jmWSBQN",
        "colab_type": "code",
        "outputId": "9bb06f53-52ce-44a6-fd78-8a645c09df83",
        "colab": {
          "base_uri": "https://localhost:8080/",
          "height": 389
        }
      },
      "source": [
        "ind = np.random.permutation(X_train.shape[0])\n",
        "plt.plot(X_train[ind[0],:]);\n",
        "print(X_train[ind[0]])"
      ],
      "execution_count": 7,
      "outputs": [
        {
          "output_type": "stream",
          "text": [
            "[ 2.65838835e-02  2.99830351e-02  4.89544541e-02  9.62231981e-02\n",
            "  6.06203941e-02  1.63180287e-01  9.82370280e-02  7.02150318e-02\n",
            "  6.09911219e-01  3.17912445e+00 -1.57420587e-12  1.03733211e-01\n",
            " -3.94837318e+03  1.02355786e+01  2.61504669e+00  6.43204848e+00\n",
            "  5.82836200e-01  1.08794071e-01  1.11607143e-02  1.43240533e+03\n",
            "  6.26133380e-02  2.79017857e-03  1.55837208e+02  4.78451111e+01\n",
            "  1.77325856e+01  0.00000000e+00  2.15657860e-02]\n"
          ],
          "name": "stdout"
        },
        {
          "output_type": "display_data",
          "data": {
            "image/png": "[encoded data removed]",
            "text/plain": [
              "<Figure size 432x288 with 1 Axes>"
            ]
          },
          "metadata": {
            "tags": []
          }
        }
      ]
    },
    {
      "cell_type": "code",
      "metadata": {
        "id": "mV9aHnmpSC0Z",
        "colab_type": "code",
        "outputId": "731ed29b-0e97-47d5-b25c-a556aca81b23",
        "colab": {
          "base_uri": "https://localhost:8080/",
          "height": 100
        }
      },
      "source": [
        "from keras.utils import np_utils\n",
        "from sklearn.preprocessing import StandardScaler\n",
        "\n",
        "input_dim = X_train.shape[1]\n",
        "\n",
        "scaler = StandardScaler()\n",
        "X_trainNx = scaler.fit_transform(X_train)\n",
        "X_testNx = scaler.fit_transform(X_test)\n",
        "DatosN=scaler.fit_transform(Datos)\n",
        "\n",
        "y_trainOHE = np_utils.to_categorical(y_train)\n",
        "nb_classes = y_trainOHE.shape[1]\n",
        "\n",
        "print(y_trainOHE[ind[0],:])"
      ],
      "execution_count": 8,
      "outputs": [
        {
          "output_type": "stream",
          "text": [
            "Using TensorFlow backend.\n"
          ],
          "name": "stderr"
        },
        {
          "output_type": "display_data",
          "data": {
            "text/html": [
              "<p style=\"color: red;\">\n",
              "The default version of TensorFlow in Colab will soon switch to TensorFlow 2.x.<br>\n",
              "We recommend you <a href=\"https://www.tensorflow.org/guide/migrate\" target=\"_blank\">upgrade</a> now \n",
              "or ensure your notebook will continue to use TensorFlow 1.x via the <code>%tensorflow_version 1.x</code> magic:\n",
              "<a href=\"https://colab.research.google.com/notebooks/tensorflow_version.ipynb\" target=\"_blank\">more info</a>.</p>\n"
            ],
            "text/plain": [
              "<IPython.core.display.HTML object>"
            ]
          },
          "metadata": {
            "tags": []
          }
        },
        {
          "output_type": "stream",
          "text": [
            "[1. 0.]\n"
          ],
          "name": "stdout"
        }
      ]
    },
    {
      "cell_type": "code",
      "metadata": {
        "id": "ihkHUG7cSiDP",
        "colab_type": "code",
        "outputId": "e2529a51-388c-4438-9ee0-ebb352acf47b",
        "colab": {
          "base_uri": "https://localhost:8080/",
          "height": 542
        }
      },
      "source": [
        "plt.figure(figsize=(10,6))\n",
        "plt.plot(X_trainNx[ind[0],:]);\n",
        "plt.title('Single subject characteristics')\n",
        "plt.xlabel('Features')\n",
        "pos=np.arange(27)\n",
        "lab=['ALFF2','ALFF3','ALFF4','ALFF5','fALFF2','fALFF3','fALFF4','fALFF5','AIS','Kurtosis','Mean','Median','Entropy','Negentropy','Jump_1','Jump_2','Jump_3','MNF','MDF','TTP','MNP','PKF','SM1','SM2','SM3','PSR','VCF']\n",
        "plt.xticks(pos,lab, rotation='vertical')\n",
        "plt.ylabel('Value (Standardized)')\n",
        "print(X_trainNx[ind[0]])"
      ],
      "execution_count": 9,
      "outputs": [
        {
          "output_type": "stream",
          "text": [
            "[-0.96880687 -1.41290211 -0.7912846   0.1654339  -0.41254277 -0.76936215\n",
            " -0.17649693  0.45151468  0.63582862 -0.13801258 -0.06966091  1.32061015\n",
            " -1.2460555  -0.05889241 -0.7503516  -0.34198319 -0.61459778 -1.01787729\n",
            " -1.34689455 -0.39363505 -0.39362386 -0.51582363 -1.01787729 -1.06017472\n",
            " -1.12657294  0.         -0.81111794]\n"
          ],
          "name": "stdout"
        },
        {
          "output_type": "display_data",
          "data": {
            "image/png": "[encoded data removed]",
            "text/plain": [
              "<Figure size 720x432 with 1 Axes>"
            ]
          },
          "metadata": {
            "tags": []
          }
        }
      ]
    },
    {
      "cell_type": "code",
      "metadata": {
        "id": "QcurtPb7UZtl",
        "colab_type": "code",
        "colab": {}
      },
      "source": [
        "from keras.models import Sequential\n",
        "from keras.layers import Dense, Activation\n",
        "from keras.layers import Dropout\n",
        "from sklearn.decomposition import FastICA, PCA"
      ],
      "execution_count": 0,
      "outputs": []
    },
    {
      "cell_type": "code",
      "metadata": {
        "id": "nBgKuqM_Sj8_",
        "colab_type": "code",
        "outputId": "83302833-91b9-4b32-c51d-0218bcbd5dad",
        "colab": {
          "base_uri": "https://localhost:8080/",
          "height": 1000
        }
      },
      "source": [
        "bat=500\n",
        "reg=0.4\n",
        "epo=100\n",
        "pre1=[]\n",
        "pre2=[]\n",
        "pre3=[]\n",
        "pre4=[]\n",
        "  \n",
        "for co in range(0,27,1):\n",
        "  #print(\"Componentes \", co)  \n",
        "  #pca = PCA(n_components=co)\n",
        "  #X_trainN = pca.fit_transform(X_trainNx)\n",
        "  #X_testN = pca.fit_transform(X_testNx)\n",
        "  \n",
        "  X=np.transpose((X_trainNx[:,co], X_trainNx[:,co], X_trainNx[:,co], X_trainNx[:,co]))\n",
        "  X=np.concatenate((X,X), axis=1)\n",
        "  \n",
        "  X2=np.transpose((X_testNx[:,co], X_testNx[:,co], X_testNx[:,co], X_testNx[:,co]))\n",
        "  X2=np.concatenate((X2,X2), axis=1)\n",
        "  \n",
        "  X_trainN = X\n",
        "  X_testN = X2\n",
        "  \n",
        "  input_dim = X_testN.shape[1]\n",
        "  print (input_dim)\n",
        "  print (nb_classes)\n",
        "  \n",
        "  #First model\n",
        "  model = Sequential()\n",
        "  model.add(Dense(13, input_dim=input_dim))\n",
        "  model.add(Activation('tanh'))\n",
        "  model.add(Dropout(reg))\n",
        "  model.add(Dense(6))\n",
        "  model.add(Activation('tanh'))\n",
        "  model.add(Dropout(reg))\n",
        "  model.add(Dense(nb_classes, activation='softmax'))\n",
        "  \n",
        "  #Second model\n",
        "  model2 = Sequential()\n",
        "  model2.add(Dense(8, input_dim=input_dim))\n",
        "  model2.add(Activation('tanh'))\n",
        "  model2.add(Dropout(reg))\n",
        "  model2.add(Dense(4))\n",
        "  model2.add(Activation('tanh'))\n",
        "  model2.add(Dropout(reg))\n",
        "  model2.add(Dense(nb_classes, activation='softmax'))\n",
        "  \n",
        "  #Third model\n",
        "  model3 = Sequential()\n",
        "  model3.add(Dense(16, input_dim=input_dim))\n",
        "  model3.add(Activation('tanh'))\n",
        "  model3.add(Dropout(reg))\n",
        "  model3.add(Dense(8))\n",
        "  model3.add(Activation('tanh'))\n",
        "  model3.add(Dropout(reg))\n",
        "  model3.add(Dense(4))\n",
        "  model3.add(Activation('tanh'))\n",
        "  model3.add(Dropout(reg))\n",
        "  model3.add(Dense(nb_classes, activation='softmax'))\n",
        "\n",
        "  #Fourth model\n",
        "  model4 = Sequential()\n",
        "  model4.add(Dense(8, input_dim=input_dim))\n",
        "  model4.add(Activation('tanh'))\n",
        "  model4.add(Dropout(reg))\n",
        "  model4.add(Dense(nb_classes, activation='softmax'))\n",
        "\n",
        "  #model parameters\n",
        "  model.compile(loss='categorical_crossentropy', optimizer='sgd', metrics=['accuracy'])\n",
        "  model2.compile(loss='categorical_crossentropy', optimizer='sgd', metrics=['accuracy'])\n",
        "  model3.compile(loss='categorical_crossentropy', optimizer='sgd', metrics=['accuracy'])\n",
        "  model4.compile(loss='categorical_crossentropy', optimizer='sgd', metrics=['accuracy'])\n",
        "  \n",
        "  print(\"Training model 1...\")\n",
        "  history1x=model.fit(X_trainN, y_trainOHE, epochs=epo, batch_size=bat, validation_split=0.1, verbose=0)\n",
        "  \n",
        "  print(\"Training model 2...\")\n",
        "  history2x=model2.fit(X_trainN, y_trainOHE, epochs=epo, batch_size=bat, validation_split=0.1, verbose=0)\n",
        "  \n",
        "  print(\"Training model 3...\")\n",
        "  history3x=model3.fit(X_trainN, y_trainOHE, epochs=epo, batch_size=bat, validation_split=0.1, verbose=0)\n",
        "  \n",
        "  print(\"Training model 4...\")\n",
        "  history4x=model4.fit(X_trainN, y_trainOHE, epochs=epo, batch_size=bat, validation_split=0.1, verbose=0)\n",
        "  \n",
        "  \n",
        "  #clear_output(wait=True)  \n",
        "  preds = model.predict_classes(X_testN, verbose=0)\n",
        "  Accuracy = np.mean(preds == y_test)\n",
        "  pre1.append(Accuracy)  \n",
        "  print('Accuracy = ', Accuracy*100, '%')\n",
        "    \n",
        "  preds2 = model2.predict_classes(X_testN, verbose=0)\n",
        "  Accuracy2 = np.mean(preds2 == y_test)\n",
        "  pre2.append(Accuracy2)\n",
        "  print('Accuracy = ', Accuracy2*100, '%')  \n",
        "  \n",
        "  preds3 = model3.predict_classes(X_testN, verbose=0)\n",
        "  Accuracy3 = np.mean(preds3 == y_test)\n",
        "  pre3.append(Accuracy3)\n",
        "  print('Accuracy = ', Accuracy3*100, '%')\n",
        "  \n",
        "  preds4 = model4.predict_classes(X_testN, verbose=0)\n",
        "  Accuracy4 = np.mean(preds4 == y_test)\n",
        "  pre4.append(Accuracy4)\n",
        "  print('Accuracy = ', Accuracy4*100, '%')\n",
        "  \n",
        "  del model\n",
        "  del model2\n",
        "  del model3\n",
        "  del model4\n",
        "  #del pca"
      ],
      "execution_count": 11,
      "outputs": [
        {
          "output_type": "stream",
          "text": [
            "8\n",
            "2\n",
            "WARNING:tensorflow:From /usr/local/lib/python3.6/dist-packages/keras/backend/tensorflow_backend.py:66: The name tf.get_default_graph is deprecated. Please use tf.compat.v1.get_default_graph instead.\n",
            "\n",
            "WARNING:tensorflow:From /usr/local/lib/python3.6/dist-packages/keras/backend/tensorflow_backend.py:541: The name tf.placeholder is deprecated. Please use tf.compat.v1.placeholder instead.\n",
            "\n",
            "WARNING:tensorflow:From /usr/local/lib/python3.6/dist-packages/keras/backend/tensorflow_backend.py:4432: The name tf.random_uniform is deprecated. Please use tf.random.uniform instead.\n",
            "\n",
            "WARNING:tensorflow:From /usr/local/lib/python3.6/dist-packages/keras/backend/tensorflow_backend.py:148: The name tf.placeholder_with_default is deprecated. Please use tf.compat.v1.placeholder_with_default instead.\n",
            "\n",
            "WARNING:tensorflow:From /usr/local/lib/python3.6/dist-packages/keras/backend/tensorflow_backend.py:3733: calling dropout (from tensorflow.python.ops.nn_ops) with keep_prob is deprecated and will be removed in a future version.\n",
            "Instructions for updating:\n",
            "Please use `rate` instead of `keep_prob`. Rate should be set to `rate = 1 - keep_prob`.\n",
            "WARNING:tensorflow:From /usr/local/lib/python3.6/dist-packages/keras/optimizers.py:793: The name tf.train.Optimizer is deprecated. Please use tf.compat.v1.train.Optimizer instead.\n",
            "\n",
            "WARNING:tensorflow:From /usr/local/lib/python3.6/dist-packages/keras/backend/tensorflow_backend.py:3576: The name tf.log is deprecated. Please use tf.math.log instead.\n",
            "\n",
            "Training model 1...\n",
            "WARNING:tensorflow:From /usr/local/lib/python3.6/dist-packages/tensorflow_core/python/ops/math_grad.py:1424: where (from tensorflow.python.ops.array_ops) is deprecated and will be removed in a future version.\n",
            "Instructions for updating:\n",
            "Use tf.where in 2.0, which has the same broadcast rule as np.where\n",
            "WARNING:tensorflow:From /usr/local/lib/python3.6/dist-packages/keras/backend/tensorflow_backend.py:1033: The name tf.assign_add is deprecated. Please use tf.compat.v1.assign_add instead.\n",
            "\n",
            "WARNING:tensorflow:From /usr/local/lib/python3.6/dist-packages/keras/backend/tensorflow_backend.py:1020: The name tf.assign is deprecated. Please use tf.compat.v1.assign instead.\n",
            "\n",
            "WARNING:tensorflow:From /usr/local/lib/python3.6/dist-packages/keras/backend/tensorflow_backend.py:3005: The name tf.Session is deprecated. Please use tf.compat.v1.Session instead.\n",
            "\n",
            "WARNING:tensorflow:From /usr/local/lib/python3.6/dist-packages/keras/backend/tensorflow_backend.py:190: The name tf.get_default_session is deprecated. Please use tf.compat.v1.get_default_session instead.\n",
            "\n",
            "WARNING:tensorflow:From /usr/local/lib/python3.6/dist-packages/keras/backend/tensorflow_backend.py:197: The name tf.ConfigProto is deprecated. Please use tf.compat.v1.ConfigProto instead.\n",
            "\n",
            "WARNING:tensorflow:From /usr/local/lib/python3.6/dist-packages/keras/backend/tensorflow_backend.py:207: The name tf.global_variables is deprecated. Please use tf.compat.v1.global_variables instead.\n",
            "\n",
            "WARNING:tensorflow:From /usr/local/lib/python3.6/dist-packages/keras/backend/tensorflow_backend.py:216: The name tf.is_variable_initialized is deprecated. Please use tf.compat.v1.is_variable_initialized instead.\n",
            "\n",
            "WARNING:tensorflow:From /usr/local/lib/python3.6/dist-packages/keras/backend/tensorflow_backend.py:223: The name tf.variables_initializer is deprecated. Please use tf.compat.v1.variables_initializer instead.\n",
            "\n",
            "Training model 2...\n",
            "Training model 3...\n",
            "Training model 4...\n",
            "Accuracy =  89.48863636363636 %\n",
            "Accuracy =  89.57604895104895 %\n",
            "Accuracy =  89.57604895104895 %\n",
            "Accuracy =  89.35751748251748 %\n",
            "8\n",
            "2\n",
            "Training model 1...\n",
            "Training model 2...\n",
            "Training model 3...\n",
            "Training model 4...\n",
            "Accuracy =  89.57604895104895 %\n",
            "Accuracy =  89.57604895104895 %\n",
            "Accuracy =  89.57604895104895 %\n",
            "Accuracy =  89.57604895104895 %\n",
            "8\n",
            "2\n",
            "Training model 1...\n",
            "Training model 2...\n",
            "Training model 3...\n",
            "Training model 4...\n",
            "Accuracy =  95.1048951048951 %\n",
            "Accuracy =  95.1923076923077 %\n",
            "Accuracy =  94.5367132867133 %\n",
            "Accuracy =  95.01748251748252 %\n",
            "8\n",
            "2\n",
            "Training model 1...\n",
            "Training model 2...\n",
            "Training model 3...\n",
            "Training model 4...\n",
            "Accuracy =  92.0236013986014 %\n",
            "Accuracy =  92.11101398601399 %\n",
            "Accuracy =  91.84877622377621 %\n",
            "Accuracy =  92.17657342657343 %\n",
            "8\n",
            "2\n",
            "Training model 1...\n",
            "Training model 2...\n",
            "Training model 3...\n",
            "Training model 4...\n",
            "Accuracy =  89.8382867132867 %\n",
            "Accuracy =  89.53234265734265 %\n",
            "Accuracy =  90.23164335664336 %\n",
            "Accuracy =  89.75087412587412 %\n",
            "8\n",
            "2\n",
            "Training model 1...\n",
            "Training model 2...\n",
            "Training model 3...\n",
            "Training model 4...\n",
            "Accuracy =  89.57604895104895 %\n",
            "Accuracy =  89.57604895104895 %\n",
            "Accuracy =  89.57604895104895 %\n",
            "Accuracy =  89.07342657342657 %\n",
            "8\n",
            "2\n",
            "Training model 1...\n",
            "Training model 2...\n",
            "Training model 3...\n",
            "Training model 4...\n",
            "Accuracy =  95.67307692307693 %\n",
            "Accuracy =  95.67307692307693 %\n",
            "Accuracy =  95.54195804195804 %\n",
            "Accuracy =  95.5201048951049 %\n",
            "8\n",
            "2\n",
            "Training model 1...\n",
            "Training model 2...\n",
            "Training model 3...\n",
            "Training model 4...\n",
            "Accuracy =  90.93094405594405 %\n",
            "Accuracy =  91.36800699300699 %\n",
            "Accuracy =  90.9090909090909 %\n",
            "Accuracy =  91.34615384615384 %\n",
            "8\n",
            "2\n",
            "Training model 1...\n",
            "Training model 2...\n",
            "Training model 3...\n",
            "Training model 4...\n",
            "Accuracy =  89.57604895104895 %\n",
            "Accuracy =  89.57604895104895 %\n",
            "Accuracy =  89.57604895104895 %\n",
            "Accuracy =  89.57604895104895 %\n",
            "8\n",
            "2\n",
            "Training model 1...\n",
            "Training model 2...\n",
            "Training model 3...\n",
            "Training model 4...\n",
            "Accuracy =  89.57604895104895 %\n",
            "Accuracy =  89.57604895104895 %\n",
            "Accuracy =  89.57604895104895 %\n",
            "Accuracy =  89.57604895104895 %\n",
            "8\n",
            "2\n",
            "Training model 1...\n",
            "Training model 2...\n",
            "Training model 3...\n",
            "Training model 4...\n",
            "Accuracy =  89.57604895104895 %\n",
            "Accuracy =  89.57604895104895 %\n",
            "Accuracy =  89.57604895104895 %\n",
            "Accuracy =  89.57604895104895 %\n",
            "8\n",
            "2\n",
            "Training model 1...\n",
            "Training model 2...\n",
            "Training model 3...\n",
            "Training model 4...\n",
            "Accuracy =  89.57604895104895 %\n",
            "Accuracy =  89.57604895104895 %\n",
            "Accuracy =  89.57604895104895 %\n",
            "Accuracy =  89.57604895104895 %\n",
            "8\n",
            "2\n",
            "Training model 1...\n",
            "Training model 2...\n",
            "Training model 3...\n",
            "Training model 4...\n",
            "Accuracy =  89.57604895104895 %\n",
            "Accuracy =  89.57604895104895 %\n",
            "Accuracy =  89.57604895104895 %\n",
            "Accuracy =  89.57604895104895 %\n",
            "8\n",
            "2\n",
            "Training model 1...\n",
            "Training model 2...\n",
            "Training model 3...\n",
            "Training model 4...\n",
            "Accuracy =  89.57604895104895 %\n",
            "Accuracy =  89.57604895104895 %\n",
            "Accuracy =  89.57604895104895 %\n",
            "Accuracy =  89.57604895104895 %\n",
            "8\n",
            "2\n",
            "Training model 1...\n",
            "Training model 2...\n",
            "Training model 3...\n",
            "Training model 4...\n",
            "Accuracy =  92.0236013986014 %\n",
            "Accuracy =  91.87062937062937 %\n",
            "Accuracy =  91.87062937062937 %\n",
            "Accuracy =  92.0673076923077 %\n",
            "8\n",
            "2\n",
            "Training model 1...\n",
            "Training model 2...\n",
            "Training model 3...\n",
            "Training model 4...\n",
            "Accuracy =  89.57604895104895 %\n",
            "Accuracy =  89.57604895104895 %\n",
            "Accuracy =  89.57604895104895 %\n",
            "Accuracy =  89.57604895104895 %\n",
            "8\n",
            "2\n",
            "Training model 1...\n",
            "Training model 2...\n",
            "Training model 3...\n",
            "Training model 4...\n",
            "Accuracy =  89.57604895104895 %\n",
            "Accuracy =  89.57604895104895 %\n",
            "Accuracy =  89.57604895104895 %\n",
            "Accuracy =  89.44493006993007 %\n",
            "8\n",
            "2\n",
            "Training model 1...\n",
            "Training model 2...\n",
            "Training model 3...\n",
            "Training model 4...\n",
            "Accuracy =  89.57604895104895 %\n",
            "Accuracy =  89.57604895104895 %\n",
            "Accuracy =  89.57604895104895 %\n",
            "Accuracy =  89.57604895104895 %\n",
            "8\n",
            "2\n",
            "Training model 1...\n",
            "Training model 2...\n",
            "Training model 3...\n",
            "Training model 4...\n",
            "Accuracy =  89.57604895104895 %\n",
            "Accuracy =  89.57604895104895 %\n",
            "Accuracy =  89.57604895104895 %\n",
            "Accuracy =  89.57604895104895 %\n",
            "8\n",
            "2\n",
            "Training model 1...\n",
            "Training model 2...\n",
            "Training model 3...\n",
            "Training model 4...\n",
            "Accuracy =  89.57604895104895 %\n",
            "Accuracy =  89.57604895104895 %\n",
            "Accuracy =  89.57604895104895 %\n",
            "Accuracy =  89.57604895104895 %\n",
            "8\n",
            "2\n",
            "Training model 1...\n",
            "Training model 2...\n",
            "Training model 3...\n",
            "Training model 4...\n",
            "Accuracy =  89.57604895104895 %\n",
            "Accuracy =  89.57604895104895 %\n",
            "Accuracy =  89.57604895104895 %\n",
            "Accuracy =  89.57604895104895 %\n",
            "8\n",
            "2\n",
            "Training model 1...\n",
            "Training model 2...\n",
            "Training model 3...\n",
            "Training model 4...\n",
            "Accuracy =  89.57604895104895 %\n",
            "Accuracy =  89.57604895104895 %\n",
            "Accuracy =  89.57604895104895 %\n",
            "Accuracy =  89.57604895104895 %\n",
            "8\n",
            "2\n",
            "Training model 1...\n",
            "Training model 2...\n",
            "Training model 3...\n",
            "Training model 4...\n",
            "Accuracy =  89.57604895104895 %\n",
            "Accuracy =  89.57604895104895 %\n",
            "Accuracy =  89.57604895104895 %\n",
            "Accuracy =  89.57604895104895 %\n",
            "8\n",
            "2\n",
            "Training model 1...\n",
            "Training model 2...\n",
            "Training model 3...\n",
            "Training model 4...\n",
            "Accuracy =  89.57604895104895 %\n",
            "Accuracy =  89.57604895104895 %\n",
            "Accuracy =  89.57604895104895 %\n",
            "Accuracy =  89.57604895104895 %\n",
            "8\n",
            "2\n",
            "Training model 1...\n",
            "Training model 2...\n",
            "Training model 3...\n",
            "Training model 4...\n",
            "Accuracy =  89.57604895104895 %\n",
            "Accuracy =  89.57604895104895 %\n",
            "Accuracy =  89.57604895104895 %\n",
            "Accuracy =  89.57604895104895 %\n",
            "8\n",
            "2\n",
            "Training model 1...\n",
            "Training model 2...\n",
            "Training model 3...\n",
            "Training model 4...\n",
            "Accuracy =  89.57604895104895 %\n",
            "Accuracy =  89.57604895104895 %\n",
            "Accuracy =  89.57604895104895 %\n",
            "Accuracy =  89.5541958041958 %\n",
            "8\n",
            "2\n",
            "Training model 1...\n",
            "Training model 2...\n",
            "Training model 3...\n",
            "Training model 4...\n",
            "Accuracy =  89.57604895104895 %\n",
            "Accuracy =  89.57604895104895 %\n",
            "Accuracy =  89.57604895104895 %\n",
            "Accuracy =  89.53234265734265 %\n"
          ],
          "name": "stdout"
        }
      ]
    },
    {
      "cell_type": "code",
      "metadata": {
        "id": "vx6dmWAgndX8",
        "colab_type": "code",
        "outputId": "385a2236-438d-4807-e5cd-c2d12ba175ad",
        "colab": {
          "base_uri": "https://localhost:8080/",
          "height": 344
        }
      },
      "source": [
        "pos=np.arange(27)\n",
        "plt.plot(np.mean(np.transpose((pre1,pre2,pre3,pre4)), axis=1), '*b')\n",
        "plt.title('Prediction per characteristic')\n",
        "plt.xlabel('Feature')\n",
        "plt.ylabel('Percentage')\n",
        "plt.ylim([0.8, 1])\n",
        "plt.xticks(pos,lab, rotation='vertical')\n",
        "plt.grid()\n"
      ],
      "execution_count": 12,
      "outputs": [
        {
          "output_type": "display_data",
          "data": {
            "image/png": "[encoded data removed]",
            "text/plain": [
              "<Figure size 432x288 with 1 Axes>"
            ]
          },
          "metadata": {
            "tags": []
          }
        }
      ]
    }
  ]
}